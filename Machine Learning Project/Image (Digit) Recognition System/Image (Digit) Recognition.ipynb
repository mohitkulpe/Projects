{
 "cells": [
  {
   "cell_type": "markdown",
   "metadata": {},
   "source": [
    "#                              Image (Digit) Recognition System"
   ]
  },
  {
   "cell_type": "markdown",
   "metadata": {},
   "source": [
    "## Objective:\n",
    "        To identify hand written digits.\n",
    "        Use 28*28 pixels images to predict digits (images) by using Decision Tree Classifier & Random Forest Classifier."
   ]
  },
  {
   "cell_type": "markdown",
   "metadata": {},
   "source": [
    "## Approach:\n",
    "        1. Loading & Summarizing Dataset.\n",
    "        2. Splitting Datasets into Training & Testing datasets.\n",
    "        3. Training Model using Decision Tree Classifier.\n",
    "        4. Training Model using Random Forest Classifier.\n",
    "        5. Checking Accuracy of Decision Tree Classifier & Cross testing it.\n",
    "        6. Checking Accuracy of Random Forest Classifier & Cross testing it.\n",
    "        7. Selecting best Model & training it with full dataset.\n",
    "        8. Testing Model."
   ]
  },
  {
   "cell_type": "markdown",
   "metadata": {},
   "source": [
    "## References:\n",
    "        https://www.kaggle.com/c/digit-recognizer         \n",
    "        "
   ]
  },
  {
   "cell_type": "code",
   "execution_count": 1,
   "metadata": {
    "collapsed": true
   },
   "outputs": [],
   "source": [
    "import numpy as np\n",
    "import pandas as pd\n",
    "\n",
    "import matplotlib\n",
    "import matplotlib.pyplot as plt\n",
    "import pylab as pl\n",
    "from PIL import Image\n",
    "\n",
    "from statistics import mean\n",
    "from collections import Counter\n",
    "\n",
    "from scipy import stats\n",
    "import scipy.ndimage\n",
    "import sklearn\n",
    "from sklearn import ensemble\n",
    "from sklearn.tree import DecisionTreeClassifier\n",
    "from sklearn.ensemble import RandomForestClassifier"
   ]
  },
  {
   "cell_type": "markdown",
   "metadata": {},
   "source": [
    "# 1. Loading & Summarizing Dataset."
   ]
  },
  {
   "cell_type": "code",
   "execution_count": 2,
   "metadata": {},
   "outputs": [],
   "source": [
    "digit = pd.read_csv('train.csv').as_matrix()"
   ]
  },
  {
   "cell_type": "code",
   "execution_count": 3,
   "metadata": {},
   "outputs": [
    {
     "name": "stdout",
     "output_type": "stream",
     "text": [
      "Total Observations: 42000\n",
      "\n",
      " DescribeResult(nobs=785, minmax=(0, 255), mean=21.210191082802549, variance=4176.135610295074, skewness=2.9631280541868423, kurtosis=7.16772913206931)\n"
     ]
    }
   ],
   "source": [
    "print ('Total Observations:',len(digit))\n",
    "print('\\n',stats.describe(digit[0]))"
   ]
  },
  {
   "cell_type": "markdown",
   "metadata": {},
   "source": [
    "#### So our dataset has total 42000 observations.\n",
    "\n",
    "#### Here is summary of first observation:\n",
    "        Number of columns: 785 in which First column is 'label' i.e label of number which represents digit and other 784 \n",
    "                           columns are values of each pixels (28*28 = 784).\n",
    "        \n",
    "        Minimum value of Pixel: 0 (Black)\n",
    "        \n",
    "        Minimum value of Pixel: 255 (white)"
   ]
  },
  {
   "cell_type": "markdown",
   "metadata": {},
   "source": [
    "# 2. Splitting Datasets into Training & Testing datasets."
   ]
  },
  {
   "cell_type": "code",
   "execution_count": 22,
   "metadata": {
    "collapsed": true
   },
   "outputs": [],
   "source": [
    "# Training Dataset\n",
    "train_digit = digit[0:21000, 1:]\n",
    "train_label = digit[0:21000, 0]\n",
    "\n",
    "# Test Dataset\n",
    "test_digit = digit[21000:, 1:]\n",
    "test_label = digit[21000:, 0]"
   ]
  },
  {
   "cell_type": "markdown",
   "metadata": {},
   "source": [
    "###### I have Splitted dataset into two equal parts i.e. first 21000 observations as Training data & next 21000 as Testing data. "
   ]
  },
  {
   "cell_type": "markdown",
   "metadata": {},
   "source": [
    "# 3. Training Model using Decision Tree Classifier."
   ]
  },
  {
   "cell_type": "code",
   "execution_count": 23,
   "metadata": {},
   "outputs": [
    {
     "data": {
      "text/plain": [
       "DecisionTreeClassifier(class_weight=None, criterion='gini', max_depth=None,\n",
       "            max_features=None, max_leaf_nodes=None,\n",
       "            min_impurity_split=1e-07, min_samples_leaf=1,\n",
       "            min_samples_split=2, min_weight_fraction_leaf=0.0,\n",
       "            presort=False, random_state=None, splitter='best')"
      ]
     },
     "execution_count": 23,
     "metadata": {},
     "output_type": "execute_result"
    }
   ],
   "source": [
    "clf_dtc = DecisionTreeClassifier()\n",
    "\n",
    "clf_dtc.fit(train_digit, train_label)\n"
   ]
  },
  {
   "cell_type": "markdown",
   "metadata": {},
   "source": [
    "# 4. Training Model using Random Forest Classifier."
   ]
  },
  {
   "cell_type": "code",
   "execution_count": 24,
   "metadata": {},
   "outputs": [
    {
     "data": {
      "text/plain": [
       "RandomForestClassifier(bootstrap=True, class_weight=None, criterion='gini',\n",
       "            max_depth=None, max_features='auto', max_leaf_nodes=None,\n",
       "            min_impurity_split=1e-07, min_samples_leaf=1,\n",
       "            min_samples_split=2, min_weight_fraction_leaf=0.0,\n",
       "            n_estimators=10, n_jobs=1, oob_score=False, random_state=None,\n",
       "            verbose=0, warm_start=False)"
      ]
     },
     "execution_count": 24,
     "metadata": {},
     "output_type": "execute_result"
    }
   ],
   "source": [
    "clf_rfc = RandomForestClassifier()\n",
    "\n",
    "clf_rfc.fit(train_digit, train_label)"
   ]
  },
  {
   "cell_type": "markdown",
   "metadata": {},
   "source": [
    "# 5. Checking Accuracy of Decision Tree Classifier & Cross Testing it."
   ]
  },
  {
   "cell_type": "code",
   "execution_count": 34,
   "metadata": {},
   "outputs": [
    {
     "name": "stdout",
     "output_type": "stream",
     "text": [
      "Accuracy: 83.76190476190476\n",
      "\n",
      "Predicted No is: 9\n"
     ]
    },
    {
     "name": "stderr",
     "output_type": "stream",
     "text": [
      "C:\\ProgramData\\Anaconda3\\lib\\site-packages\\sklearn\\utils\\validation.py:395: DeprecationWarning: Passing 1d arrays as data is deprecated in 0.17 and will raise ValueError in 0.19. Reshape your data either using X.reshape(-1, 1) if your data has a single feature or X.reshape(1, -1) if it contains a single sample.\n",
      "  DeprecationWarning)\n"
     ]
    },
    {
     "data": {
      "image/png": "[encoded data removed]",
      "text/plain": [
       "<matplotlib.figure.Figure at 0x9bb4a90>"
      ]
     },
     "metadata": {},
     "output_type": "display_data"
    }
   ],
   "source": [
    "#Accuracy of Decision Tree Classifier\n",
    "pred_dtc = clf_dtc.predict(test_digit)\n",
    "\n",
    "count = 0\n",
    "for i in range(0,21000):\n",
    "    count+=1 if pred_dtc[i] == test_label[i] else 0\n",
    "print ('Accuracy:', (count/21000)*100)\n",
    "\n",
    "# Prediction\n",
    "test_img1 = test_digit[3]\n",
    "\n",
    "pred1 = (clf_dtc.predict(test_img1))\n",
    "print ('\\nPredicted No is:', pred1[0])\n",
    "\n",
    "#Actual Image\n",
    "test_img1.shape=(28,28)\n",
    "plt.imshow(test_img1, cmap='gray')\n",
    "plt.show()"
   ]
  },
  {
   "cell_type": "markdown",
   "metadata": {},
   "source": [
    "### Accuracy of model is 83.76%\n",
    "\n",
    "##### I have cross tested this model by predicting random number from Test dataset & verifying it by displaying actual image of that digit. Here Model predicted Number 9 & also that image is of digit 9, Hence our model is predicting correct result."
   ]
  },
  {
   "cell_type": "markdown",
   "metadata": {},
   "source": [
    "#  6. Checking Accuracy of Random Forest Classifier & Cross Testing it."
   ]
  },
  {
   "cell_type": "code",
   "execution_count": 37,
   "metadata": {},
   "outputs": [
    {
     "name": "stdout",
     "output_type": "stream",
     "text": [
      "Accuracy: 92.63809523809525\n",
      "\n",
      "Predicted No is: 9\n"
     ]
    },
    {
     "name": "stderr",
     "output_type": "stream",
     "text": [
      "C:\\ProgramData\\Anaconda3\\lib\\site-packages\\sklearn\\utils\\validation.py:395: DeprecationWarning: Passing 1d arrays as data is deprecated in 0.17 and will raise ValueError in 0.19. Reshape your data either using X.reshape(-1, 1) if your data has a single feature or X.reshape(1, -1) if it contains a single sample.\n",
      "  DeprecationWarning)\n"
     ]
    },
    {
     "data": {
      "image/png": "[encoded data removed]",
      "text/plain": [
       "<matplotlib.figure.Figure at 0x9f48030>"
      ]
     },
     "metadata": {},
     "output_type": "display_data"
    }
   ],
   "source": [
    "#Accuracy of Random Forest Classifier\n",
    "\n",
    "pred_rfc = clf_rfc.predict(test_digit)\n",
    "\n",
    "count = 0\n",
    "for i in range(0,21000):\n",
    "    count+=1 if pred_rfc[i] == test_label[i] else 0\n",
    "print ('Accuracy:', (count/21000)*100)\n",
    "\n",
    "# Prediction\n",
    "test_img2 = test_digit[3]\n",
    "\n",
    "pred2 = (clf_rfc.predict(test_img2))\n",
    "print ('\\nPredicted No is:', pred2[0])\n",
    "\n",
    "#Actual Image\n",
    "test_img2.shape=(28,28)\n",
    "plt.imshow(test_img2, cmap='gray')\n",
    "plt.show()"
   ]
  },
  {
   "cell_type": "markdown",
   "metadata": {},
   "source": [
    "### Accuracy of model is 92.63%\n",
    "\n",
    "##### I have cross tested this model by predicting random number from Test dataset & verifying it by displaying actual image of that digit. Here Model predicted Number 9 & also that image is of digit 9, Hence our model is predicting correct result."
   ]
  },
  {
   "cell_type": "markdown",
   "metadata": {},
   "source": [
    "# 7. Selecting best Model & Training it with full dataset."
   ]
  },
  {
   "cell_type": "markdown",
   "metadata": {},
   "source": [
    "#### Accuracy of Decision Tree Classifier is 83.76%.\n",
    "#### Accuracy of Random Forest Classifier is 92.63%.\n",
    "#### So we will select Random Forest Classifier and Train it with full dataset."
   ]
  },
  {
   "cell_type": "code",
   "execution_count": 38,
   "metadata": {},
   "outputs": [
    {
     "data": {
      "text/plain": [
       "42000"
      ]
     },
     "execution_count": 38,
     "metadata": {},
     "output_type": "execute_result"
    }
   ],
   "source": [
    "bw_digit = pd.read_csv('bw_digit_dataset.csv').as_matrix()\n",
    "print (len(bw_digit))"
   ]
  },
  {
   "cell_type": "code",
   "execution_count": 46,
   "metadata": {},
   "outputs": [
    {
     "data": {
      "text/plain": [
       "RandomForestClassifier(bootstrap=True, class_weight=None, criterion='gini',\n",
       "            max_depth=None, max_features='auto', max_leaf_nodes=None,\n",
       "            min_impurity_split=1e-07, min_samples_leaf=1,\n",
       "            min_samples_split=2, min_weight_fraction_leaf=0.0,\n",
       "            n_estimators=10, n_jobs=1, oob_score=False, random_state=None,\n",
       "            verbose=0, warm_start=False)"
      ]
     },
     "execution_count": 46,
     "metadata": {},
     "output_type": "execute_result"
    }
   ],
   "source": [
    "clf = RandomForestClassifier()\n",
    "\n",
    "bw_train = bw_digit[:42000, 1:]\n",
    "bw_train_label = bw_digit[:42000, 0]\n",
    "\n",
    "clf.fit(bw_train, bw_train_label)"
   ]
  },
  {
   "cell_type": "markdown",
   "metadata": {},
   "source": [
    "##### I used another dataset which is generated from above (main 'train.csv') dataset, Because I want to train my model based on standard input which will be provided to it for predicting some random digits (images). I have converted images of main dataset into Black&White & created 'bw_digit_dataset.csv'. I have provided 'bw_digit_dataset.csv' with this project.\n",
    "\n",
    "### Now Our Model is Trained & Ready to Predict Digits provided by Users."
   ]
  },
  {
   "cell_type": "markdown",
   "metadata": {},
   "source": [
    "# 8. Testing Model."
   ]
  },
  {
   "cell_type": "code",
   "execution_count": 54,
   "metadata": {},
   "outputs": [
    {
     "name": "stderr",
     "output_type": "stream",
     "text": [
      "C:\\ProgramData\\Anaconda3\\lib\\site-packages\\sklearn\\utils\\validation.py:395: DeprecationWarning: Passing 1d arrays as data is deprecated in 0.17 and will raise ValueError in 0.19. Reshape your data either using X.reshape(-1, 1) if your data has a single feature or X.reshape(1, -1) if it contains a single sample.\n",
      "  DeprecationWarning)\n"
     ]
    },
    {
     "name": "stdout",
     "output_type": "stream",
     "text": [
      "\n",
      "Predicted No is: 3\n"
     ]
    },
    {
     "data": {
      "image/png": "[encoded data removed]",
      "text/plain": [
       "<matplotlib.figure.Figure at 0x90c7f90>"
      ]
     },
     "metadata": {},
     "output_type": "display_data"
    }
   ],
   "source": [
    "### Provide image path that has to be predicted\n",
    "Test_img_name = 'test.png'\n",
    "\n",
    "\n",
    "# Converting Images to Black & white\n",
    "\n",
    "def threshold(imageArray):\n",
    "\n",
    "    balanceAr = []\n",
    "    newAr = imageArray\n",
    "    for eachRow in imageArray:\n",
    "        for eachPix in eachRow:\n",
    "            avgNum = mean(eachPix[:3])\n",
    "            balanceAr.append(avgNum)\n",
    "\n",
    "    balance = mean(balanceAr)\n",
    "    for eachRow in newAr:\n",
    "        for eachPix in eachRow:\n",
    "            if mean(eachPix[:3]) > balance:\n",
    "                eachPix[0] = 255\n",
    "                eachPix[1] = 255\n",
    "                eachPix[2] = 255\n",
    "                eachPix[3] = 255\n",
    "            else:\n",
    "                eachPix[0] = 0\n",
    "                eachPix[1] = 0\n",
    "                eachPix[2] = 0\n",
    "                eachPix[3] = 255\n",
    "    return newAr\n",
    "\n",
    "\n",
    "im = Image.open(Test_img_name)\n",
    "iar = np.array(im)\n",
    "\n",
    "iar1 = threshold(iar)\n",
    "    \n",
    "# Saving Converted Image into 'test_bw' directory\n",
    "matplotlib.image.imsave('test_bw/'+Test_img_name, iar1)\n",
    "\n",
    "\n",
    "# Picking-up Saved converted Image from 'test_bw' directory\n",
    "test_img_main = scipy.ndimage.imread('test_bw/'+Test_img_name, flatten=False, mode='L')\n",
    "\n",
    "test_img = test_img_main.tolist()\n",
    "test_img = [item for sublist in test_img for item in sublist]\n",
    "test_img = np.asarray(test_img)\n",
    "\n",
    "\n",
    "# Predicting provided Image (Digit)\n",
    "pred = (clf.predict(test_img))\n",
    "print ('\\nPredicted No is:', pred[0])\n",
    "\n",
    "# Displaying Actual Image\n",
    "test_img_main.shape=(28,28)\n",
    "plt.imshow(test_img_main, cmap='gray')\n",
    "plt.show()"
   ]
  },
  {
   "cell_type": "markdown",
   "metadata": {},
   "source": [
    "## WOW !\n",
    "### Our Model predicted accurate digit.\n",
    "\n",
    "### Here I provided random image generated in MS Paint which is displayed above i.e. 3.  Our model predicted it very accurately that the 'Predicted No is : 3 '.\n",
    "\n",
    "#### * NOTE:\n",
    "Make sure to provide image of size 28x28 pixel & save it as 'test.png' in same directory where the code is saved.\n",
    "\n",
    "Also create one empty directory with name 'test_bw' in same directory."
   ]
  }
 ],
 "metadata": {
  "kernelspec": {
   "display_name": "Python 3",
   "language": "python",
   "name": "python3"
  },
  "language_info": {
   "codemirror_mode": {
    "name": "ipython",
    "version": 3
   },
   "file_extension": ".py",
   "mimetype": "text/x-python",
   "name": "python",
   "nbconvert_exporter": "python",
   "pygments_lexer": "ipython3",
   "version": "3.6.1"
  }
 },
 "nbformat": 4,
 "nbformat_minor": 2
}
