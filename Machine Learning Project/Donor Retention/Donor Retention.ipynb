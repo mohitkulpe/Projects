{
 "cells": [
  {
   "cell_type": "code",
   "execution_count": 1,
   "metadata": {
    "collapsed": true
   },
   "outputs": [],
   "source": [
    "import numpy as np\n",
    "import pandas as pd\n",
    "import matplotlib.pyplot as plt\n",
    "import seaborn as sns\n",
    "\n",
    "from datetime import datetime"
   ]
  },
  {
   "cell_type": "code",
   "execution_count": 2,
   "metadata": {},
   "outputs": [
    {
     "name": "stderr",
     "output_type": "stream",
     "text": [
      "C:\\ProgramData\\Anaconda3\\lib\\site-packages\\IPython\\core\\interactiveshell.py:2717: DtypeWarning: Columns (4) have mixed types. Specify dtype option on import or set low_memory=False.\n",
      "  interactivity=interactivity, compiler=compiler, result=result)\n"
     ]
    }
   ],
   "source": [
    "donors = pd.read_csv(\"donors.csv\")"
   ]
  },
  {
   "cell_type": "code",
   "execution_count": 3,
   "metadata": {
    "collapsed": true
   },
   "outputs": [],
   "source": [
    "donations = pd.read_csv(\"donations.csv\")"
   ]
  },
  {
   "cell_type": "code",
   "execution_count": 4,
   "metadata": {},
   "outputs": [
    {
     "data": {
      "text/plain": [
       "(2122640, 5)"
      ]
     },
     "execution_count": 4,
     "metadata": {},
     "output_type": "execute_result"
    }
   ],
   "source": [
    "\n",
    "donors.shape"
   ]
  },
  {
   "cell_type": "code",
   "execution_count": 5,
   "metadata": {},
   "outputs": [
    {
     "data": {
      "text/html": [
       "<div>\n",
       "<style>\n",
       "    .dataframe thead tr:only-child th {\n",
       "        text-align: right;\n",
       "    }\n",
       "\n",
       "    .dataframe thead th {\n",
       "        text-align: left;\n",
       "    }\n",
       "\n",
       "    .dataframe tbody tr th {\n",
       "        vertical-align: top;\n",
       "    }\n",
       "</style>\n",
       "<table border=\"1\" class=\"dataframe\">\n",
       "  <thead>\n",
       "    <tr style=\"text-align: right;\">\n",
       "      <th></th>\n",
       "      <th>Donor ID</th>\n",
       "      <th>Donor City</th>\n",
       "      <th>Donor State</th>\n",
       "      <th>Donor Is Teacher</th>\n",
       "      <th>Donor Zip</th>\n",
       "    </tr>\n",
       "  </thead>\n",
       "  <tbody>\n",
       "    <tr>\n",
       "      <th>0</th>\n",
       "      <td>00000ce845c00cbf0686c992fc369df4</td>\n",
       "      <td>Evanston</td>\n",
       "      <td>Illinois</td>\n",
       "      <td>No</td>\n",
       "      <td>602</td>\n",
       "    </tr>\n",
       "    <tr>\n",
       "      <th>1</th>\n",
       "      <td>00002783bc5d108510f3f9666c8b1edd</td>\n",
       "      <td>Appomattox</td>\n",
       "      <td>other</td>\n",
       "      <td>No</td>\n",
       "      <td>245</td>\n",
       "    </tr>\n",
       "    <tr>\n",
       "      <th>2</th>\n",
       "      <td>00002d44003ed46b066607c5455a999a</td>\n",
       "      <td>Winton</td>\n",
       "      <td>California</td>\n",
       "      <td>Yes</td>\n",
       "      <td>953</td>\n",
       "    </tr>\n",
       "    <tr>\n",
       "      <th>3</th>\n",
       "      <td>00002eb25d60a09c318efbd0797bffb5</td>\n",
       "      <td>Indianapolis</td>\n",
       "      <td>Indiana</td>\n",
       "      <td>No</td>\n",
       "      <td>462</td>\n",
       "    </tr>\n",
       "    <tr>\n",
       "      <th>4</th>\n",
       "      <td>0000300773fe015f870914b42528541b</td>\n",
       "      <td>Paterson</td>\n",
       "      <td>New Jersey</td>\n",
       "      <td>No</td>\n",
       "      <td>075</td>\n",
       "    </tr>\n",
       "  </tbody>\n",
       "</table>\n",
       "</div>"
      ],
      "text/plain": [
       "                           Donor ID    Donor City Donor State  \\\n",
       "0  00000ce845c00cbf0686c992fc369df4      Evanston    Illinois   \n",
       "1  00002783bc5d108510f3f9666c8b1edd    Appomattox       other   \n",
       "2  00002d44003ed46b066607c5455a999a        Winton  California   \n",
       "3  00002eb25d60a09c318efbd0797bffb5  Indianapolis     Indiana   \n",
       "4  0000300773fe015f870914b42528541b      Paterson  New Jersey   \n",
       "\n",
       "  Donor Is Teacher Donor Zip  \n",
       "0               No       602  \n",
       "1               No       245  \n",
       "2              Yes       953  \n",
       "3               No       462  \n",
       "4               No       075  "
      ]
     },
     "execution_count": 5,
     "metadata": {},
     "output_type": "execute_result"
    }
   ],
   "source": [
    "donors.head()"
   ]
  },
  {
   "cell_type": "code",
   "execution_count": 6,
   "metadata": {},
   "outputs": [
    {
     "data": {
      "text/plain": [
       "(1048575, 7)"
      ]
     },
     "execution_count": 6,
     "metadata": {},
     "output_type": "execute_result"
    }
   ],
   "source": [
    "donations.shape"
   ]
  },
  {
   "cell_type": "code",
   "execution_count": 7,
   "metadata": {},
   "outputs": [
    {
     "data": {
      "text/html": [
       "<div>\n",
       "<style>\n",
       "    .dataframe thead tr:only-child th {\n",
       "        text-align: right;\n",
       "    }\n",
       "\n",
       "    .dataframe thead th {\n",
       "        text-align: left;\n",
       "    }\n",
       "\n",
       "    .dataframe tbody tr th {\n",
       "        vertical-align: top;\n",
       "    }\n",
       "</style>\n",
       "<table border=\"1\" class=\"dataframe\">\n",
       "  <thead>\n",
       "    <tr style=\"text-align: right;\">\n",
       "      <th></th>\n",
       "      <th>Project ID</th>\n",
       "      <th>Donation ID</th>\n",
       "      <th>Donor ID</th>\n",
       "      <th>Donation Included Optional Donation 0f 15% to donorchoose.org</th>\n",
       "      <th>Donation Amount</th>\n",
       "      <th>Donor Cart Sequence</th>\n",
       "      <th>Donation Received Date</th>\n",
       "    </tr>\n",
       "  </thead>\n",
       "  <tbody>\n",
       "    <tr>\n",
       "      <th>0</th>\n",
       "      <td>000009891526c0ade7180f8423792063</td>\n",
       "      <td>688729120858666221208529ee3fc18e</td>\n",
       "      <td>1f4b5b6e68445c6c4a0509b3aca93f38</td>\n",
       "      <td>No</td>\n",
       "      <td>178.37</td>\n",
       "      <td>11</td>\n",
       "      <td>8/23/2016 13:15</td>\n",
       "    </tr>\n",
       "    <tr>\n",
       "      <th>1</th>\n",
       "      <td>000009891526c0ade7180f8423792063</td>\n",
       "      <td>dcf1071da3aa3561f91ac689d1f73dee</td>\n",
       "      <td>4aaab6d244bf3599682239ed5591af8a</td>\n",
       "      <td>Yes</td>\n",
       "      <td>25.00</td>\n",
       "      <td>2</td>\n",
       "      <td>6/6/2016 20:05</td>\n",
       "    </tr>\n",
       "    <tr>\n",
       "      <th>2</th>\n",
       "      <td>000009891526c0ade7180f8423792063</td>\n",
       "      <td>18a234b9d1e538c431761d521ea7799d</td>\n",
       "      <td>0b0765dc9c759adc48a07688ba25e94e</td>\n",
       "      <td>Yes</td>\n",
       "      <td>20.00</td>\n",
       "      <td>3</td>\n",
       "      <td>6/6/2016 14:08</td>\n",
       "    </tr>\n",
       "    <tr>\n",
       "      <th>3</th>\n",
       "      <td>000009891526c0ade7180f8423792063</td>\n",
       "      <td>38d2744bf9138b0b57ed581c76c0e2da</td>\n",
       "      <td>377944ad61f72d800b25ec1862aec363</td>\n",
       "      <td>Yes</td>\n",
       "      <td>25.00</td>\n",
       "      <td>1</td>\n",
       "      <td>5/15/2016 10:23</td>\n",
       "    </tr>\n",
       "    <tr>\n",
       "      <th>4</th>\n",
       "      <td>000009891526c0ade7180f8423792063</td>\n",
       "      <td>5a032791e31167a70206bfb86fb60035</td>\n",
       "      <td>6d5b22d39e68c656071a842732c63a0c</td>\n",
       "      <td>Yes</td>\n",
       "      <td>25.00</td>\n",
       "      <td>2</td>\n",
       "      <td>5/17/2016 1:23</td>\n",
       "    </tr>\n",
       "  </tbody>\n",
       "</table>\n",
       "</div>"
      ],
      "text/plain": [
       "                         Project ID                       Donation ID  \\\n",
       "0  000009891526c0ade7180f8423792063  688729120858666221208529ee3fc18e   \n",
       "1  000009891526c0ade7180f8423792063  dcf1071da3aa3561f91ac689d1f73dee   \n",
       "2  000009891526c0ade7180f8423792063  18a234b9d1e538c431761d521ea7799d   \n",
       "3  000009891526c0ade7180f8423792063  38d2744bf9138b0b57ed581c76c0e2da   \n",
       "4  000009891526c0ade7180f8423792063  5a032791e31167a70206bfb86fb60035   \n",
       "\n",
       "                           Donor ID  \\\n",
       "0  1f4b5b6e68445c6c4a0509b3aca93f38   \n",
       "1  4aaab6d244bf3599682239ed5591af8a   \n",
       "2  0b0765dc9c759adc48a07688ba25e94e   \n",
       "3  377944ad61f72d800b25ec1862aec363   \n",
       "4  6d5b22d39e68c656071a842732c63a0c   \n",
       "\n",
       "  Donation Included Optional Donation 0f 15% to donorchoose.org  \\\n",
       "0                                                 No              \n",
       "1                                                Yes              \n",
       "2                                                Yes              \n",
       "3                                                Yes              \n",
       "4                                                Yes              \n",
       "\n",
       "   Donation Amount  Donor Cart Sequence Donation Received Date  \n",
       "0           178.37                   11        8/23/2016 13:15  \n",
       "1            25.00                    2         6/6/2016 20:05  \n",
       "2            20.00                    3         6/6/2016 14:08  \n",
       "3            25.00                    1        5/15/2016 10:23  \n",
       "4            25.00                    2         5/17/2016 1:23  "
      ]
     },
     "execution_count": 7,
     "metadata": {},
     "output_type": "execute_result"
    }
   ],
   "source": [
    "donations.head()"
   ]
  },
  {
   "cell_type": "markdown",
   "metadata": {},
   "source": [
    "### Exploring Donors"
   ]
  },
  {
   "cell_type": "code",
   "execution_count": 8,
   "metadata": {},
   "outputs": [
    {
     "data": {
      "text/plain": [
       "Donor ID                 0\n",
       "Donor City          213097\n",
       "Donor State              0\n",
       "Donor Is Teacher         0\n",
       "Donor Zip           180060\n",
       "dtype: int64"
      ]
     },
     "execution_count": 8,
     "metadata": {},
     "output_type": "execute_result"
    }
   ],
   "source": [
    "donors.isnull().sum()"
   ]
  },
  {
   "cell_type": "code",
   "execution_count": 9,
   "metadata": {},
   "outputs": [
    {
     "data": {
      "text/plain": [
       "10.039243583462104"
      ]
     },
     "execution_count": 9,
     "metadata": {},
     "output_type": "execute_result"
    }
   ],
   "source": [
    "# Percentages of Missing Values in Column 'Donor City'\n",
    "\n",
    "(donors['Donor City'].isnull().sum()/donors.shape[0])*100"
   ]
  },
  {
   "cell_type": "code",
   "execution_count": 10,
   "metadata": {},
   "outputs": [
    {
     "data": {
      "text/plain": [
       "8.4828326989032536"
      ]
     },
     "execution_count": 10,
     "metadata": {},
     "output_type": "execute_result"
    }
   ],
   "source": [
    "# Percentages of Missing Values in Column 'Donor Zip'\n",
    "\n",
    "(donors['Donor Zip'].isnull().sum()/donors.shape[0])*100"
   ]
  },
  {
   "cell_type": "code",
   "execution_count": 11,
   "metadata": {},
   "outputs": [
    {
     "data": {
      "text/plain": [
       "2122640"
      ]
     },
     "execution_count": 11,
     "metadata": {},
     "output_type": "execute_result"
    }
   ],
   "source": [
    "len(donors['Donor ID'].unique())"
   ]
  },
  {
   "cell_type": "code",
   "execution_count": 12,
   "metadata": {},
   "outputs": [
    {
     "data": {
      "text/plain": [
       "15205"
      ]
     },
     "execution_count": 12,
     "metadata": {},
     "output_type": "execute_result"
    }
   ],
   "source": [
    "len(donors['Donor City'].unique())"
   ]
  },
  {
   "cell_type": "code",
   "execution_count": 13,
   "metadata": {},
   "outputs": [
    {
     "data": {
      "text/plain": [
       "Donor State\n",
       "California              294695\n",
       "New York                137957\n",
       "Texas                   134449\n",
       "Florida                 108828\n",
       "other                   107809\n",
       "Illinois                104381\n",
       "North Carolina           84250\n",
       "Pennsylvania             72280\n",
       "Georgia                  63731\n",
       "Massachusetts            60730\n",
       "Michigan                 60435\n",
       "New Jersey               54266\n",
       "Virginia                 53022\n",
       "Ohio                     52571\n",
       "Washington               47963\n",
       "South Carolina           47043\n",
       "Indiana                  43237\n",
       "Arizona                  41529\n",
       "Maryland                 36375\n",
       "Missouri                 35820\n",
       "Wisconsin                33217\n",
       "Colorado                 32704\n",
       "Connecticut              31604\n",
       "Minnesota                31183\n",
       "Tennessee                30604\n",
       "Oklahoma                 30133\n",
       "Oregon                   29743\n",
       "Louisiana                24519\n",
       "Alabama                  23312\n",
       "Utah                     21589\n",
       "Kentucky                 18929\n",
       "Nevada                   16014\n",
       "Kansas                   13837\n",
       "Iowa                     13238\n",
       "Arkansas                 12867\n",
       "Mississippi              11997\n",
       "Maine                    11486\n",
       "District of Columbia     10862\n",
       "New Hampshire            10259\n",
       "Idaho                     8330\n",
       "Hawaii                    7967\n",
       "Rhode Island              7610\n",
       "New Mexico                7576\n",
       "West Virginia             7497\n",
       "Nebraska                  6272\n",
       "Delaware                  5906\n",
       "Montana                   5088\n",
       "Alaska                    4519\n",
       "South Dakota              4084\n",
       "Vermont                   3677\n",
       "North Dakota              3012\n",
       "Wyoming                   1634\n",
       "Name: Donor State, dtype: int64"
      ]
     },
     "execution_count": 13,
     "metadata": {},
     "output_type": "execute_result"
    }
   ],
   "source": [
    "# Sorting States on Basis of Frequecy\n",
    "\n",
    "donors.groupby('Donor State')['Donor State'].count().sort_values(ascending=False)"
   ]
  },
  {
   "cell_type": "code",
   "execution_count": 14,
   "metadata": {},
   "outputs": [
    {
     "data": {
      "text/plain": [
       "Donor City\n",
       "Chicago              34352\n",
       "New York             27863\n",
       "Brooklyn             22330\n",
       "Los Angeles          18320\n",
       "San Francisco        16925\n",
       "Houston              15839\n",
       "Portland             13039\n",
       "Seattle              12984\n",
       "Atlanta              12537\n",
       "Philadelphia         12381\n",
       "Washington           11568\n",
       "Charlotte            10290\n",
       "Austin               10249\n",
       "Indianapolis         10125\n",
       "Phoenix               9645\n",
       "Miami                 9605\n",
       "San Diego             9205\n",
       "Denver                8937\n",
       "Dallas                8593\n",
       "Minneapolis           8571\n",
       "San Jose              7845\n",
       "Oklahoma City         7651\n",
       "Saint Louis           7593\n",
       "Oakland               7221\n",
       "Columbus              6805\n",
       "San Antonio           6602\n",
       "Las Vegas             6500\n",
       "Arlington             6389\n",
       "Louisville            6329\n",
       "Pittsburgh            6328\n",
       "                     ...  \n",
       "Corriganville            1\n",
       "Correll                  1\n",
       "Powderhorn               1\n",
       "Corral                   1\n",
       "Poynor                   1\n",
       "Prairie Hill             1\n",
       "Cornland                 1\n",
       "Ponderosa                1\n",
       "Pond Gap                 1\n",
       "Crayne                   1\n",
       "Point Mugu Nawc          1\n",
       "Pocono Manor             1\n",
       "Pocopson                 1\n",
       "Crater Lake              1\n",
       "Point Clear              1\n",
       "Point Comfort            1\n",
       "Cranfills Gap            1\n",
       "Cranesville              1\n",
       "Crane Lake               1\n",
       "Pointblank               1\n",
       "Pond Eddy                1\n",
       "Pointe A La Hache        1\n",
       "Cranberry Lake           1\n",
       "Polaris                  1\n",
       "Cragford                 1\n",
       "Pompey                   1\n",
       "Coy                      1\n",
       "Cowley                   1\n",
       "Cowlesville              1\n",
       "Aaronsburg               1\n",
       "Name: Donor City, Length: 15204, dtype: int64"
      ]
     },
     "execution_count": 14,
     "metadata": {},
     "output_type": "execute_result"
    }
   ],
   "source": [
    "# Sorting City on Basis of Frequecy\n",
    "\n",
    "donors.groupby('Donor City')['Donor City'].count().sort_values(ascending=False)"
   ]
  },
  {
   "cell_type": "markdown",
   "metadata": {
    "collapsed": true
   },
   "source": [
    "### Exploring Donations"
   ]
  },
  {
   "cell_type": "code",
   "execution_count": 15,
   "metadata": {},
   "outputs": [
    {
     "data": {
      "text/plain": [
       "Project ID                                                       0\n",
       "Donation ID                                                      0\n",
       "Donor ID                                                         0\n",
       "Donation Included Optional Donation 0f 15% to donorchoose.org    0\n",
       "Donation Amount                                                  0\n",
       "Donor Cart Sequence                                              0\n",
       "Donation Received Date                                           0\n",
       "dtype: int64"
      ]
     },
     "execution_count": 15,
     "metadata": {},
     "output_type": "execute_result"
    }
   ],
   "source": [
    "donations.isnull().sum()"
   ]
  },
  {
   "cell_type": "code",
   "execution_count": 16,
   "metadata": {},
   "outputs": [
    {
     "data": {
      "text/plain": [
       "1048575"
      ]
     },
     "execution_count": 16,
     "metadata": {},
     "output_type": "execute_result"
    }
   ],
   "source": [
    "donations.shape[0]"
   ]
  },
  {
   "cell_type": "code",
   "execution_count": 17,
   "metadata": {},
   "outputs": [
    {
     "data": {
      "text/plain": [
       "1048575"
      ]
     },
     "execution_count": 17,
     "metadata": {},
     "output_type": "execute_result"
    }
   ],
   "source": [
    "len(donations['Donation ID'])"
   ]
  },
  {
   "cell_type": "code",
   "execution_count": 18,
   "metadata": {},
   "outputs": [
    {
     "data": {
      "text/plain": [
       "1048568"
      ]
     },
     "execution_count": 18,
     "metadata": {},
     "output_type": "execute_result"
    }
   ],
   "source": [
    "len(donations['Donation ID'].unique())"
   ]
  },
  {
   "cell_type": "code",
   "execution_count": 19,
   "metadata": {},
   "outputs": [
    {
     "data": {
      "text/plain": [
       "127589    c8689b5750748bdf987f7c2b1ce36c5b\n",
       "127590    c8689b5750748bdf987f7c2b1ce36c5b\n",
       "157022    d93a8bb381345d10c75aa6e590eae257\n",
       "157034    d93a8bb381345d10c75aa6e590eae257\n",
       "201918    ec7fedbc05656a1675898e325598101a\n",
       "201919    ec7fedbc05656a1675898e325598101a\n",
       "212456    3aba50dc6813f02a1de167e8556963be\n",
       "212457    3aba50dc6813f02a1de167e8556963be\n",
       "449152    3b3ec32441959bc337ad25ad4aeb81b8\n",
       "449154    3b3ec32441959bc337ad25ad4aeb81b8\n",
       "606370    a92737584ed38f422e81340466785558\n",
       "606371    a92737584ed38f422e81340466785558\n",
       "643817    5fff777a5c8193b666f4b47773a04bee\n",
       "643818    5fff777a5c8193b666f4b47773a04bee\n",
       "Name: Donation ID, dtype: object"
      ]
     },
     "execution_count": 19,
     "metadata": {},
     "output_type": "execute_result"
    }
   ],
   "source": [
    "# Finding Duplicate Records\n",
    "\n",
    "df=donations['Donation ID']\n",
    "\n",
    "df[df.duplicated(keep=False)]\n"
   ]
  },
  {
   "cell_type": "code",
   "execution_count": 20,
   "metadata": {},
   "outputs": [
    {
     "data": {
      "text/plain": [
       "Donation ID\n",
       "a92737584ed38f422e81340466785558    2\n",
       "3b3ec32441959bc337ad25ad4aeb81b8    2\n",
       "3aba50dc6813f02a1de167e8556963be    2\n",
       "5fff777a5c8193b666f4b47773a04bee    2\n",
       "ec7fedbc05656a1675898e325598101a    2\n",
       "d93a8bb381345d10c75aa6e590eae257    2\n",
       "c8689b5750748bdf987f7c2b1ce36c5b    2\n",
       "551df0921678c440fbd063ff1ce3ab86    1\n",
       "551dec0a40b2a12aa643bfd1a740536f    1\n",
       "551dec3bd276c2d38f168eff2763be45    1\n",
       "fffffe8705a636d6eaafe31c91de68ba    1\n",
       "551e16180a1ccc177fbbefa1d3a18d71    1\n",
       "551e53b6e2fd77d2a57ec680a1d81d4c    1\n",
       "551e5adc1dc971ea6fc79b9119693e61    1\n",
       "551e605832a64d1bfb76f5a790d58ee5    1\n",
       "551e895afc054d9604a2b46b464eb849    1\n",
       "551eb76111954d83543009c4f518cf5a    1\n",
       "551e00651013f7337330684865111fe5    1\n",
       "551de3dc2e7b29b96413187db504a484    1\n",
       "551de9e9d72ccbcee2ac21d7ad3330fa    1\n",
       "551efa672786b08c4693cec963c9b22b    1\n",
       "551dd7529674d74f9ee7d2a6527e3d96    1\n",
       "551daf2e1db089fe053998457110c5f9    1\n",
       "551da9ae7d670eafd9b4f51d3206cebf    1\n",
       "551da8c4f5ba3f8183ae65ea4e520734    1\n",
       "551d85ac2dc242dfc9d8c17ac2046bf1    1\n",
       "551d65d36bba85eabb44c11727ecf6a4    1\n",
       "551d5cb3cb63726d9ff21a804db4a3fa    1\n",
       "551d379d9d68929e95e5054c5442f13f    1\n",
       "551d2a97a64a5bc74989bc8cf8aeeb93    1\n",
       "                                   ..\n",
       "aa9845ae2fc05ad09254afe3075ffabc    1\n",
       "aa985bb5fb6ed53b89c04c3298e6523c    1\n",
       "aa99ee2d6c0d604553cefed4c401c585    1\n",
       "aa99c0bfb13fe89555568127f1324bd1    1\n",
       "aa99ad5f29ba90c7df56c37764593254    1\n",
       "aa99ac08fd23406262b5deb8469ea7f6    1\n",
       "aa99a663a2d7065ee8493c2c09cbe31a    1\n",
       "aa999bdad01c41fd23e8d1a0237c7840    1\n",
       "aa999964d6a81269cb02958a689c55b9    1\n",
       "aa998ef4eeab0a44a4d475b06f7b8bd6    1\n",
       "aa995c3c6dbc16909a6bc6fbaa40cccf    1\n",
       "aa994c271c1c402518ae9b64dfeab52d    1\n",
       "aa99291b97b067822abb907692b64f92    1\n",
       "aa9909ebedfa0554bd9a5e6710c5a7cf    1\n",
       "aa9908519ac376297a1d5841a33c55b9    1\n",
       "aa98fd95da34075dc6b21f057e0bb47b    1\n",
       "aa98f2d2fc9b5d516768375294542d13    1\n",
       "aa98defac0b1efcfc7fb509e589f0445    1\n",
       "aa98ceb8397492283ddf6907c6bf4bf8    1\n",
       "aa98c7ae55d859482d7a2b5cd4462f43    1\n",
       "aa98c5c4cd268ae51a9395487bb1d43c    1\n",
       "aa98bf41e303ee3972ab57b896c43c8b    1\n",
       "aa98b61c9f4ad6bcab84c2f30a7d5680    1\n",
       "aa98b59eb68fcb9ea4e8f94fb5abd4a1    1\n",
       "aa988fee3e99672fba3880fc6958b665    1\n",
       "aa988cd18b3720ae084f32012c96ccba    1\n",
       "aa98880a930bc159004315efa36d2329    1\n",
       "aa98876e7f1102b18afd77866328539d    1\n",
       "aa988602ee2f7ad3ea251de5c7e0149d    1\n",
       "000009891526c0ade7180f8423792063    1\n",
       "Name: Donation ID, Length: 1048568, dtype: int64"
      ]
     },
     "execution_count": 20,
     "metadata": {},
     "output_type": "execute_result"
    }
   ],
   "source": [
    "donations.groupby('Donation ID')['Donation ID'].count().sort_values(ascending=False)"
   ]
  },
  {
   "cell_type": "code",
   "execution_count": 21,
   "metadata": {},
   "outputs": [
    {
     "name": "stdout",
     "output_type": "stream",
     "text": [
      "Total Donors: 1048575\n",
      "Total Unique Donors: 600835\n"
     ]
    }
   ],
   "source": [
    "print ('Total Donors:',len(donations['Donor ID']))\n",
    "\n",
    "print ('Total Unique Donors:',len(donations['Donor ID'].unique()))"
   ]
  },
  {
   "cell_type": "code",
   "execution_count": 22,
   "metadata": {},
   "outputs": [
    {
     "name": "stdout",
     "output_type": "stream",
     "text": [
      "Total Repeated Donors: 447740\n"
     ]
    }
   ],
   "source": [
    "print ('Total Repeated Donors:',len(donations['Donor ID'])-len(donations['Donor ID'].unique()))"
   ]
  },
  {
   "cell_type": "code",
   "execution_count": 23,
   "metadata": {},
   "outputs": [
    {
     "data": {
      "text/plain": [
       "Donor ID\n",
       "237db43817f34988f9d543ca518be4ee    3290\n",
       "39df9399f5384334a42905bcf0acdcbf    2957\n",
       "a0e1d358aa17745ff3d3f4e4909356f3    2304\n",
       "6f74ffb17cbb2b616b1eef06bd4acd0c    2102\n",
       "a1929a1172ad0b3d14bc84f54018c563    1514\n",
       "19f24640d9da49f6f8b4c9938c049591    1373\n",
       "24ecca49933c30a0beb83090591720c0    1335\n",
       "6a35a7514005c04f8520e5d8f7657d91    1177\n",
       "b51c76411b51751f45527c63c69ead9e    1168\n",
       "74f7db06bcd9557d1e992dc029db69cc    1096\n",
       "f37b9ff133242d08658ca2b17b3ab84c    1040\n",
       "75e09805b663bbe4b80b40034c192b4a     990\n",
       "0e345dcdef0d2a36c9bd17bf1ac3e10a     979\n",
       "4416745560343f14a74dedcda4ec03b0     955\n",
       "a7fa881a86cb4c7e70815b38168d1702     951\n",
       "0cd96e83a645971f6deb4559262b7688     912\n",
       "a299db9679f7746a805fbc300362191d     906\n",
       "86d57a6264726b2a94c5b9663f46330c     881\n",
       "406518edf1c30d599de90e2055a697fc     849\n",
       "6dd7995a998f79a8c65a0d400c9a5350     839\n",
       "c376c98b0cdb746cf025bb21ee810376     799\n",
       "d24347fdee199ae9395ad44484e1caf7     796\n",
       "e7692ca3a0fe35653c173de80adfc880     785\n",
       "d006be7223c048ae8b2bdedd7dd2b4db     753\n",
       "a7dbf5caa4e885e277e7fb46fc3b795e     728\n",
       "66c30e1da1934d7cfe810ba79f6e04c1     711\n",
       "4942150e351df37d02b1b1008032d795     675\n",
       "98c4cd327c417683cd76a2ac19fc6254     661\n",
       "28601b5d4270c7f42a43bb5a44753d8e     657\n",
       "009d5fc7b87883ffad248db5150bf1fc     644\n",
       "                                    ... \n",
       "a16d714e36883eda7a7c83142b3348c3       1\n",
       "a16b5a4420821dc0d83b16dc50309062       1\n",
       "a16b6d545b6d1ba89c98c8cea3c46ed2       1\n",
       "a16b965854c263d91f2be404075099b7       1\n",
       "a16c66b113daa5dab68fd1fac02278de       1\n",
       "a16c6d58f9f3041071da52faec55e6ee       1\n",
       "a16ca86b8b84185f335bf2f8ff71048c       1\n",
       "a16d1c9235941bf22b07bc458a89dda2       1\n",
       "a16d2ac6d0e7d3b609f74672fea077f2       1\n",
       "a16d2dcf17ee5957bda202cbabd62f1a       1\n",
       "a16d2f16d4ebecc7649ce77ce7e55aae       1\n",
       "a16d5012178acdc6471d98716e77794d       1\n",
       "a16d5c86e181b978131d18a74455e007       1\n",
       "a16d62f3b658894a5a9950b9fbe8b907       1\n",
       "a16daf2f9563ccd3487c589fe64372a1       1\n",
       "a16fd6a41ddfc8d676d94336287aee08       1\n",
       "a16dc0db3c57c25a864492580cc140ff       1\n",
       "a16df77fc2cb902ddbe8eacd17289fa4       1\n",
       "a16e2b906261ac36b7adaaf9404567d9       1\n",
       "a16e98ab82d17be5143203c4da167cd7       1\n",
       "a16eb8fe1b04f9ab056b9a696aec833d       1\n",
       "a16f22480e38149c5b5cf0f8c720df88       1\n",
       "a16f368c8ee276854b006653f4d08cef       1\n",
       "a16f3922ec5360a9ec90ba081c34b7df       1\n",
       "a16f735d55498ccf7e847eba6efe0790       1\n",
       "a16f9ca85cac6a7b64aaadd0be9fe7ab       1\n",
       "a16fa976831c7ec6097306d564968a04       1\n",
       "a16fccb2a9588cac90ab15797c48e6fa       1\n",
       "a16fcd430ae93367a1cd6058c3f5687d       1\n",
       "7fdb479755c558fd079b031c27b20990       1\n",
       "Name: Donor ID, Length: 600835, dtype: int64"
      ]
     },
     "execution_count": 23,
     "metadata": {},
     "output_type": "execute_result"
    }
   ],
   "source": [
    "donations.groupby('Donor ID')['Donor ID'].count().sort_values(ascending=False)\n"
   ]
  },
  {
   "cell_type": "code",
   "execution_count": 24,
   "metadata": {},
   "outputs": [
    {
     "data": {
      "text/plain": [
       "3290"
      ]
     },
     "execution_count": 24,
     "metadata": {},
     "output_type": "execute_result"
    }
   ],
   "source": [
    "donorsid = donations['Donor ID']\n",
    "type(donorsid)\n",
    "\n",
    "\n",
    "donorsid=donorsid.value_counts()\n",
    "donorsid[0]"
   ]
  },
  {
   "cell_type": "code",
   "execution_count": 25,
   "metadata": {},
   "outputs": [
    {
     "data": {
      "text/html": [
       "<div>\n",
       "<style>\n",
       "    .dataframe thead tr:only-child th {\n",
       "        text-align: right;\n",
       "    }\n",
       "\n",
       "    .dataframe thead th {\n",
       "        text-align: left;\n",
       "    }\n",
       "\n",
       "    .dataframe tbody tr th {\n",
       "        vertical-align: top;\n",
       "    }\n",
       "</style>\n",
       "<table border=\"1\" class=\"dataframe\">\n",
       "  <thead>\n",
       "    <tr style=\"text-align: right;\">\n",
       "      <th></th>\n",
       "      <th>Donor ID</th>\n",
       "      <th>No of Donations</th>\n",
       "    </tr>\n",
       "  </thead>\n",
       "  <tbody>\n",
       "    <tr>\n",
       "      <th>0</th>\n",
       "      <td>237db43817f34988f9d543ca518be4ee</td>\n",
       "      <td>3290</td>\n",
       "    </tr>\n",
       "    <tr>\n",
       "      <th>1</th>\n",
       "      <td>39df9399f5384334a42905bcf0acdcbf</td>\n",
       "      <td>2957</td>\n",
       "    </tr>\n",
       "    <tr>\n",
       "      <th>2</th>\n",
       "      <td>a0e1d358aa17745ff3d3f4e4909356f3</td>\n",
       "      <td>2304</td>\n",
       "    </tr>\n",
       "    <tr>\n",
       "      <th>3</th>\n",
       "      <td>6f74ffb17cbb2b616b1eef06bd4acd0c</td>\n",
       "      <td>2102</td>\n",
       "    </tr>\n",
       "    <tr>\n",
       "      <th>4</th>\n",
       "      <td>a1929a1172ad0b3d14bc84f54018c563</td>\n",
       "      <td>1514</td>\n",
       "    </tr>\n",
       "  </tbody>\n",
       "</table>\n",
       "</div>"
      ],
      "text/plain": [
       "                           Donor ID  No of Donations\n",
       "0  237db43817f34988f9d543ca518be4ee             3290\n",
       "1  39df9399f5384334a42905bcf0acdcbf             2957\n",
       "2  a0e1d358aa17745ff3d3f4e4909356f3             2304\n",
       "3  6f74ffb17cbb2b616b1eef06bd4acd0c             2102\n",
       "4  a1929a1172ad0b3d14bc84f54018c563             1514"
      ]
     },
     "execution_count": 25,
     "metadata": {},
     "output_type": "execute_result"
    }
   ],
   "source": [
    "# Sorted DF of Donors on Basis of number of donations\n",
    "\n",
    "df5 = pd.DataFrame(data=donorsid.index, columns=['Donor ID'])\n",
    "df6 = pd.DataFrame(data=donorsid.values, columns=['No of Donations'])\n",
    "df7 = pd.merge(df5, df6, left_index=True, right_index=True)\n",
    "df7.head()"
   ]
  },
  {
   "cell_type": "markdown",
   "metadata": {},
   "source": [
    "### Analysis of 1 Donor"
   ]
  },
  {
   "cell_type": "code",
   "execution_count": 26,
   "metadata": {},
   "outputs": [
    {
     "data": {
      "text/plain": [
       "'237db43817f34988f9d543ca518be4ee'"
      ]
     },
     "execution_count": 26,
     "metadata": {},
     "output_type": "execute_result"
    }
   ],
   "source": [
    "donor_1 = df7['Donor ID'][0]\n",
    "donor_1"
   ]
  },
  {
   "cell_type": "code",
   "execution_count": 27,
   "metadata": {},
   "outputs": [
    {
     "data": {
      "text/html": [
       "<div>\n",
       "<style>\n",
       "    .dataframe thead tr:only-child th {\n",
       "        text-align: right;\n",
       "    }\n",
       "\n",
       "    .dataframe thead th {\n",
       "        text-align: left;\n",
       "    }\n",
       "\n",
       "    .dataframe tbody tr th {\n",
       "        vertical-align: top;\n",
       "    }\n",
       "</style>\n",
       "<table border=\"1\" class=\"dataframe\">\n",
       "  <thead>\n",
       "    <tr style=\"text-align: right;\">\n",
       "      <th></th>\n",
       "      <th>Donation Included Optional Donation 0f 15% to donorchoose.org</th>\n",
       "      <th>Donation Amount</th>\n",
       "      <th>Donation Received Date</th>\n",
       "    </tr>\n",
       "  </thead>\n",
       "  <tbody>\n",
       "    <tr>\n",
       "      <th>213</th>\n",
       "      <td>Yes</td>\n",
       "      <td>1.0</td>\n",
       "      <td>3/30/2015 20:32</td>\n",
       "    </tr>\n",
       "    <tr>\n",
       "      <th>214</th>\n",
       "      <td>No</td>\n",
       "      <td>3.3</td>\n",
       "      <td>3/30/2015 11:03</td>\n",
       "    </tr>\n",
       "    <tr>\n",
       "      <th>222</th>\n",
       "      <td>No</td>\n",
       "      <td>5.0</td>\n",
       "      <td>3/29/2015 16:37</td>\n",
       "    </tr>\n",
       "    <tr>\n",
       "      <th>1267</th>\n",
       "      <td>No</td>\n",
       "      <td>3.0</td>\n",
       "      <td>6/5/2014 9:04</td>\n",
       "    </tr>\n",
       "    <tr>\n",
       "      <th>1280</th>\n",
       "      <td>No</td>\n",
       "      <td>4.0</td>\n",
       "      <td>5/26/2014 22:02</td>\n",
       "    </tr>\n",
       "  </tbody>\n",
       "</table>\n",
       "</div>"
      ],
      "text/plain": [
       "     Donation Included Optional Donation 0f 15% to donorchoose.org  \\\n",
       "213                                                 Yes              \n",
       "214                                                  No              \n",
       "222                                                  No              \n",
       "1267                                                 No              \n",
       "1280                                                 No              \n",
       "\n",
       "      Donation Amount Donation Received Date  \n",
       "213               1.0        3/30/2015 20:32  \n",
       "214               3.3        3/30/2015 11:03  \n",
       "222               5.0        3/29/2015 16:37  \n",
       "1267              3.0          6/5/2014 9:04  \n",
       "1280              4.0        5/26/2014 22:02  "
      ]
     },
     "execution_count": 27,
     "metadata": {},
     "output_type": "execute_result"
    }
   ],
   "source": [
    "# Donation Data of 1 Donor\n",
    "\n",
    "donor1_df = pd.DataFrame(donations[(donations['Donor ID'] == donor_1)])\n",
    "\n",
    "donor1_df=donor1_df.drop(['Project ID', 'Donation ID', 'Donor ID', 'Donor Cart Sequence'], axis=1)\n",
    "\n",
    "donor1_df.head()"
   ]
  },
  {
   "cell_type": "code",
   "execution_count": 28,
   "metadata": {},
   "outputs": [
    {
     "data": {
      "text/plain": [
       "Donation Included Optional Donation 0f 15% to donorchoose.org     object\n",
       "Donation Amount                                                  float64\n",
       "Donation Received Date                                            object\n",
       "dtype: object"
      ]
     },
     "execution_count": 28,
     "metadata": {},
     "output_type": "execute_result"
    }
   ],
   "source": [
    "donor1_df.dtypes"
   ]
  },
  {
   "cell_type": "code",
   "execution_count": 29,
   "metadata": {},
   "outputs": [
    {
     "data": {
      "text/plain": [
       "Donation Included Optional Donation 0f 15% to donorchoose.org            object\n",
       "Donation Amount                                                         float64\n",
       "Donation Received Date                                           datetime64[ns]\n",
       "dtype: object"
      ]
     },
     "execution_count": 29,
     "metadata": {},
     "output_type": "execute_result"
    }
   ],
   "source": [
    "\n",
    "donor1_df['Donation Received Date'] = pd.to_datetime(donor1_df['Donation Received Date'])\n",
    "\n",
    "donor1_df.dtypes"
   ]
  },
  {
   "cell_type": "code",
   "execution_count": 30,
   "metadata": {},
   "outputs": [
    {
     "name": "stdout",
     "output_type": "stream",
     "text": [
      "count    3290.000000\n",
      "mean        5.822298\n",
      "std         9.542694\n",
      "min         1.000000\n",
      "25%         1.000000\n",
      "50%         5.000000\n",
      "75%         5.000000\n",
      "max       148.470000\n",
      "Name: Donation Amount, dtype: float64\n",
      "\n",
      "Total Donation: 19155.360000000008\n"
     ]
    }
   ],
   "source": [
    "# Stats of Donation Amount\n",
    "\n",
    "print (donor1_df['Donation Amount'].describe())\n",
    "\n",
    "print ('\\nTotal Donation:',donor1_df['Donation Amount'].sum())"
   ]
  },
  {
   "cell_type": "code",
   "execution_count": 31,
   "metadata": {},
   "outputs": [
    {
     "data": {
      "text/plain": [
       "count                    3290\n",
       "unique                   2611\n",
       "top       2017-11-28 11:07:00\n",
       "freq                       12\n",
       "first     2013-01-06 17:43:00\n",
       "last      2018-05-09 11:38:00\n",
       "Name: Donation Received Date, dtype: object"
      ]
     },
     "execution_count": 31,
     "metadata": {},
     "output_type": "execute_result"
    }
   ],
   "source": [
    "donor1_df['Donation Received Date'].describe()"
   ]
  },
  {
   "cell_type": "code",
   "execution_count": 32,
   "metadata": {},
   "outputs": [
    {
     "data": {
      "text/plain": [
       "Donation Included Optional Donation 0f 15% to donorchoose.org            object\n",
       "Donation Amount                                                         float64\n",
       "Donation Received Date                                           datetime64[ns]\n",
       "Date                                                                     object\n",
       "Time                                                                     object\n",
       "dtype: object"
      ]
     },
     "execution_count": 32,
     "metadata": {},
     "output_type": "execute_result"
    }
   ],
   "source": [
    "\n",
    "\n",
    "donor1_df['Date'] = [d.date() for d in donor1_df['Donation Received Date']]\n",
    "donor1_df['Time'] = [d.time() for d in donor1_df['Donation Received Date']]\n",
    "\n",
    "donor1_df.head()\n",
    "donor1_df.dtypes"
   ]
  },
  {
   "cell_type": "code",
   "execution_count": 33,
   "metadata": {},
   "outputs": [
    {
     "data": {
      "text/html": [
       "<div>\n",
       "<style>\n",
       "    .dataframe thead tr:only-child th {\n",
       "        text-align: right;\n",
       "    }\n",
       "\n",
       "    .dataframe thead th {\n",
       "        text-align: left;\n",
       "    }\n",
       "\n",
       "    .dataframe tbody tr th {\n",
       "        vertical-align: top;\n",
       "    }\n",
       "</style>\n",
       "<table border=\"1\" class=\"dataframe\">\n",
       "  <thead>\n",
       "    <tr style=\"text-align: right;\">\n",
       "      <th></th>\n",
       "      <th>Donation Included Optional Donation 0f 15% to donorchoose.org</th>\n",
       "      <th>Donation Amount</th>\n",
       "      <th>Donation Received Date</th>\n",
       "      <th>Date</th>\n",
       "      <th>Time</th>\n",
       "    </tr>\n",
       "  </thead>\n",
       "  <tbody>\n",
       "    <tr>\n",
       "      <th>213</th>\n",
       "      <td>Yes</td>\n",
       "      <td>1.0</td>\n",
       "      <td>2015-03-30 20:32:00</td>\n",
       "      <td>2015-03-30</td>\n",
       "      <td>20:32:00</td>\n",
       "    </tr>\n",
       "    <tr>\n",
       "      <th>214</th>\n",
       "      <td>No</td>\n",
       "      <td>3.3</td>\n",
       "      <td>2015-03-30 11:03:00</td>\n",
       "      <td>2015-03-30</td>\n",
       "      <td>11:03:00</td>\n",
       "    </tr>\n",
       "    <tr>\n",
       "      <th>222</th>\n",
       "      <td>No</td>\n",
       "      <td>5.0</td>\n",
       "      <td>2015-03-29 16:37:00</td>\n",
       "      <td>2015-03-29</td>\n",
       "      <td>16:37:00</td>\n",
       "    </tr>\n",
       "    <tr>\n",
       "      <th>1267</th>\n",
       "      <td>No</td>\n",
       "      <td>3.0</td>\n",
       "      <td>2014-06-05 09:04:00</td>\n",
       "      <td>2014-06-05</td>\n",
       "      <td>09:04:00</td>\n",
       "    </tr>\n",
       "    <tr>\n",
       "      <th>1280</th>\n",
       "      <td>No</td>\n",
       "      <td>4.0</td>\n",
       "      <td>2014-05-26 22:02:00</td>\n",
       "      <td>2014-05-26</td>\n",
       "      <td>22:02:00</td>\n",
       "    </tr>\n",
       "  </tbody>\n",
       "</table>\n",
       "</div>"
      ],
      "text/plain": [
       "     Donation Included Optional Donation 0f 15% to donorchoose.org  \\\n",
       "213                                                 Yes              \n",
       "214                                                  No              \n",
       "222                                                  No              \n",
       "1267                                                 No              \n",
       "1280                                                 No              \n",
       "\n",
       "      Donation Amount Donation Received Date       Date      Time  \n",
       "213               1.0    2015-03-30 20:32:00 2015-03-30  20:32:00  \n",
       "214               3.3    2015-03-30 11:03:00 2015-03-30  11:03:00  \n",
       "222               5.0    2015-03-29 16:37:00 2015-03-29  16:37:00  \n",
       "1267              3.0    2014-06-05 09:04:00 2014-06-05  09:04:00  \n",
       "1280              4.0    2014-05-26 22:02:00 2014-05-26  22:02:00  "
      ]
     },
     "execution_count": 33,
     "metadata": {},
     "output_type": "execute_result"
    }
   ],
   "source": [
    "donor1_df['Date'] = pd.to_datetime(donor1_df['Date'])\n",
    "donor1_df.head()"
   ]
  },
  {
   "cell_type": "code",
   "execution_count": 40,
   "metadata": {},
   "outputs": [
    {
     "data": {
      "text/html": [
       "<div>\n",
       "<style>\n",
       "    .dataframe thead tr:only-child th {\n",
       "        text-align: right;\n",
       "    }\n",
       "\n",
       "    .dataframe thead th {\n",
       "        text-align: left;\n",
       "    }\n",
       "\n",
       "    .dataframe tbody tr th {\n",
       "        vertical-align: top;\n",
       "    }\n",
       "</style>\n",
       "<table border=\"1\" class=\"dataframe\">\n",
       "  <thead>\n",
       "    <tr style=\"text-align: right;\">\n",
       "      <th></th>\n",
       "      <th>Donation Amount</th>\n",
       "      <th>Date</th>\n",
       "    </tr>\n",
       "  </thead>\n",
       "  <tbody>\n",
       "    <tr>\n",
       "      <th>213</th>\n",
       "      <td>1.0</td>\n",
       "      <td>2015-03-30</td>\n",
       "    </tr>\n",
       "    <tr>\n",
       "      <th>214</th>\n",
       "      <td>3.3</td>\n",
       "      <td>2015-03-30</td>\n",
       "    </tr>\n",
       "    <tr>\n",
       "      <th>222</th>\n",
       "      <td>5.0</td>\n",
       "      <td>2015-03-29</td>\n",
       "    </tr>\n",
       "    <tr>\n",
       "      <th>1267</th>\n",
       "      <td>3.0</td>\n",
       "      <td>2014-06-05</td>\n",
       "    </tr>\n",
       "    <tr>\n",
       "      <th>1280</th>\n",
       "      <td>4.0</td>\n",
       "      <td>2014-05-26</td>\n",
       "    </tr>\n",
       "  </tbody>\n",
       "</table>\n",
       "</div>"
      ],
      "text/plain": [
       "      Donation Amount       Date\n",
       "213               1.0 2015-03-30\n",
       "214               3.3 2015-03-30\n",
       "222               5.0 2015-03-29\n",
       "1267              3.0 2014-06-05\n",
       "1280              4.0 2014-05-26"
      ]
     },
     "execution_count": 40,
     "metadata": {},
     "output_type": "execute_result"
    }
   ],
   "source": [
    "donor1_yr = donor1_df[['Donation Amount', 'Date']].copy()\n",
    "donor1_yr.head()"
   ]
  },
  {
   "cell_type": "markdown",
   "metadata": {},
   "source": [
    "### Time Series of Donor 1"
   ]
  },
  {
   "cell_type": "code",
   "execution_count": 42,
   "metadata": {},
   "outputs": [
    {
     "data": {
      "text/plain": [
       "<matplotlib.figure.Figure at 0xcdecf50>"
      ]
     },
     "metadata": {},
     "output_type": "display_data"
    },
    {
     "data": {
      "image/png": "[encoded data removed]",
      "text/plain": [
       "<matplotlib.figure.Figure at 0x6518ad0>"
      ]
     },
     "metadata": {},
     "output_type": "display_data"
    }
   ],
   "source": [
    "plt.figure()\n",
    "donor1_yr.plot(x='Date', y='Donation Amount')\n",
    "plt.show()"
   ]
  },
  {
   "cell_type": "markdown",
   "metadata": {},
   "source": [
    "### Sort Year wise & then Divide"
   ]
  },
  {
   "cell_type": "code",
   "execution_count": 45,
   "metadata": {},
   "outputs": [
    {
     "data": {
      "text/html": [
       "<div>\n",
       "<style>\n",
       "    .dataframe thead tr:only-child th {\n",
       "        text-align: right;\n",
       "    }\n",
       "\n",
       "    .dataframe thead th {\n",
       "        text-align: left;\n",
       "    }\n",
       "\n",
       "    .dataframe tbody tr th {\n",
       "        vertical-align: top;\n",
       "    }\n",
       "</style>\n",
       "<table border=\"1\" class=\"dataframe\">\n",
       "  <thead>\n",
       "    <tr style=\"text-align: right;\">\n",
       "      <th></th>\n",
       "      <th>Donation Amount</th>\n",
       "      <th>Date</th>\n",
       "    </tr>\n",
       "  </thead>\n",
       "  <tbody>\n",
       "    <tr>\n",
       "      <th>667625</th>\n",
       "      <td>20.0</td>\n",
       "      <td>2013-01-06</td>\n",
       "    </tr>\n",
       "    <tr>\n",
       "      <th>842361</th>\n",
       "      <td>5.0</td>\n",
       "      <td>2013-01-14</td>\n",
       "    </tr>\n",
       "    <tr>\n",
       "      <th>187816</th>\n",
       "      <td>1.0</td>\n",
       "      <td>2013-01-15</td>\n",
       "    </tr>\n",
       "    <tr>\n",
       "      <th>833596</th>\n",
       "      <td>1.0</td>\n",
       "      <td>2013-01-15</td>\n",
       "    </tr>\n",
       "    <tr>\n",
       "      <th>192717</th>\n",
       "      <td>1.0</td>\n",
       "      <td>2013-01-16</td>\n",
       "    </tr>\n",
       "  </tbody>\n",
       "</table>\n",
       "</div>"
      ],
      "text/plain": [
       "        Donation Amount       Date\n",
       "667625             20.0 2013-01-06\n",
       "842361              5.0 2013-01-14\n",
       "187816              1.0 2013-01-15\n",
       "833596              1.0 2013-01-15\n",
       "192717              1.0 2013-01-16"
      ]
     },
     "execution_count": 45,
     "metadata": {},
     "output_type": "execute_result"
    }
   ],
   "source": [
    "donor1_yr_s = donor1_yr.sort_values(by=['Date'])\n",
    "donor1_yr_s.head()"
   ]
  },
  {
   "cell_type": "code",
   "execution_count": 46,
   "metadata": {},
   "outputs": [
    {
     "data": {
      "text/html": [
       "<div>\n",
       "<style>\n",
       "    .dataframe thead tr:only-child th {\n",
       "        text-align: right;\n",
       "    }\n",
       "\n",
       "    .dataframe thead th {\n",
       "        text-align: left;\n",
       "    }\n",
       "\n",
       "    .dataframe tbody tr th {\n",
       "        vertical-align: top;\n",
       "    }\n",
       "</style>\n",
       "<table border=\"1\" class=\"dataframe\">\n",
       "  <thead>\n",
       "    <tr style=\"text-align: right;\">\n",
       "      <th></th>\n",
       "      <th>Donation Amount</th>\n",
       "      <th>Date</th>\n",
       "    </tr>\n",
       "  </thead>\n",
       "  <tbody>\n",
       "    <tr>\n",
       "      <th>667625</th>\n",
       "      <td>20.0</td>\n",
       "      <td>2013-01-06</td>\n",
       "    </tr>\n",
       "    <tr>\n",
       "      <th>842361</th>\n",
       "      <td>5.0</td>\n",
       "      <td>2013-01-14</td>\n",
       "    </tr>\n",
       "    <tr>\n",
       "      <th>187816</th>\n",
       "      <td>1.0</td>\n",
       "      <td>2013-01-15</td>\n",
       "    </tr>\n",
       "    <tr>\n",
       "      <th>833596</th>\n",
       "      <td>1.0</td>\n",
       "      <td>2013-01-15</td>\n",
       "    </tr>\n",
       "    <tr>\n",
       "      <th>192717</th>\n",
       "      <td>1.0</td>\n",
       "      <td>2013-01-16</td>\n",
       "    </tr>\n",
       "  </tbody>\n",
       "</table>\n",
       "</div>"
      ],
      "text/plain": [
       "        Donation Amount       Date\n",
       "667625             20.0 2013-01-06\n",
       "842361              5.0 2013-01-14\n",
       "187816              1.0 2013-01-15\n",
       "833596              1.0 2013-01-15\n",
       "192717              1.0 2013-01-16"
      ]
     },
     "execution_count": 46,
     "metadata": {},
     "output_type": "execute_result"
    }
   ],
   "source": [
    "donor1_2013_df = donor1_yr_s[(donor1_yr_s['Date'] >= '2013-1-1') & (donor1_yr_s['Date'] < '2014-1-1')]\n",
    "donor1_2013_df.head()"
   ]
  },
  {
   "cell_type": "markdown",
   "metadata": {},
   "source": [
    "### Time Series of 1 Donor for 1 Year"
   ]
  },
  {
   "cell_type": "code",
   "execution_count": 53,
   "metadata": {},
   "outputs": [
    {
     "data": {
      "image/png": "[encoded data removed]",
      "text/plain": [
       "<matplotlib.figure.Figure at 0x66f5130>"
      ]
     },
     "metadata": {},
     "output_type": "display_data"
    }
   ],
   "source": [
    "import matplotlib.pyplot as plt\n",
    "\n",
    "plt.rcParams['figure.figsize'] = [18, 9]\n",
    "donor1_2013_df.plot(x='Date', y='Donation Amount')\n",
    "plt.show()"
   ]
  },
  {
   "cell_type": "code",
   "execution_count": 54,
   "metadata": {
    "collapsed": true
   },
   "outputs": [],
   "source": [
    "donor1_2014_df = donor1_yr_s[(donor1_yr_s['Date'] >= '2014-1-1') & (donor1_yr_s['Date'] < '2015-1-1')]\n",
    "donor1_2015_df = donor1_yr_s[(donor1_yr_s['Date'] >= '2015-1-1') & (donor1_yr_s['Date'] < '2016-1-1')]\n",
    "donor1_2016_df = donor1_yr_s[(donor1_yr_s['Date'] >= '2016-1-1') & (donor1_yr_s['Date'] < '2017-1-1')]\n",
    "donor1_2017_df = donor1_yr_s[(donor1_yr_s['Date'] >= '2017-1-1') & (donor1_yr_s['Date'] < '2018-1-1')]\n",
    "donor1_2018_df = donor1_yr_s[(donor1_yr_s['Date'] >= '2018-1-1') & (donor1_yr_s['Date'] < '2019-1-1')]\n"
   ]
  },
  {
   "cell_type": "code",
   "execution_count": 73,
   "metadata": {},
   "outputs": [
    {
     "data": {
      "text/plain": [
       "<matplotlib.axes._subplots.AxesSubplot at 0x65bfc10>"
      ]
     },
     "execution_count": 73,
     "metadata": {},
     "output_type": "execute_result"
    },
    {
     "data": {
      "text/plain": [
       "<matplotlib.figure.Figure at 0x65c4c30>"
      ]
     },
     "metadata": {},
     "output_type": "display_data"
    },
    {
     "data": {
      "image/png": "[encoded data removed]",
      "text/plain": [
       "<matplotlib.figure.Figure at 0xd895c50>"
      ]
     },
     "metadata": {},
     "output_type": "display_data"
    },
    {
     "data": {
      "image/png": "[encoded data removed]",
      "text/plain": [
       "<matplotlib.figure.Figure at 0x65f6c30>"
      ]
     },
     "metadata": {},
     "output_type": "display_data"
    }
   ],
   "source": [
    "%matplotlib inline \n",
    "\n",
    "plt.figure()\n",
    "\n",
    " \n",
    "#plt.rcParams['figure.figsize'] = [5, 5]\n",
    "donor1_2014_df.plot(x='Date', y='Donation Amount')\n",
    "\n",
    "donor1_2015_df.plot(x='Date', y='Donation Amount')\n",
    "\n",
    "\n"
   ]
  },
  {
   "cell_type": "code",
   "execution_count": 87,
   "metadata": {},
   "outputs": [
    {
     "data": {
      "image/png": "[encoded data removed]",
      "text/plain": [
       "<matplotlib.figure.Figure at 0xe195990>"
      ]
     },
     "metadata": {},
     "output_type": "display_data"
    }
   ],
   "source": [
    "plt.rcParams['figure.figsize'] = [18, 8]\n",
    "\n",
    "plt.plot('Date', 'Donation Amount',data=donor1_2013_df)\n",
    "plt.plot('Date', 'Donation Amount',data=donor1_2014_df)\n",
    "plt.plot('Date', 'Donation Amount',data=donor1_2015_df)\n",
    "plt.plot('Date', 'Donation Amount',data=donor1_2016_df)\n",
    "plt.plot('Date', 'Donation Amount',data=donor1_2017_df)\n",
    "plt.plot('Date', 'Donation Amount',data=donor1_2018_df)\n",
    "\n",
    "plt.show()"
   ]
  },
  {
   "cell_type": "markdown",
   "metadata": {},
   "source": [
    "### Analysis of 1 State (California)"
   ]
  },
  {
   "cell_type": "code",
   "execution_count": 91,
   "metadata": {},
   "outputs": [
    {
     "data": {
      "text/html": [
       "<div>\n",
       "<style>\n",
       "    .dataframe thead tr:only-child th {\n",
       "        text-align: right;\n",
       "    }\n",
       "\n",
       "    .dataframe thead th {\n",
       "        text-align: left;\n",
       "    }\n",
       "\n",
       "    .dataframe tbody tr th {\n",
       "        vertical-align: top;\n",
       "    }\n",
       "</style>\n",
       "<table border=\"1\" class=\"dataframe\">\n",
       "  <thead>\n",
       "    <tr style=\"text-align: right;\">\n",
       "      <th></th>\n",
       "      <th>Donor ID</th>\n",
       "      <th>Donor City</th>\n",
       "      <th>Donor State</th>\n",
       "      <th>Donor Is Teacher</th>\n",
       "      <th>Donor Zip</th>\n",
       "    </tr>\n",
       "  </thead>\n",
       "  <tbody>\n",
       "    <tr>\n",
       "      <th>0</th>\n",
       "      <td>00000ce845c00cbf0686c992fc369df4</td>\n",
       "      <td>Evanston</td>\n",
       "      <td>Illinois</td>\n",
       "      <td>No</td>\n",
       "      <td>602</td>\n",
       "    </tr>\n",
       "    <tr>\n",
       "      <th>1</th>\n",
       "      <td>00002783bc5d108510f3f9666c8b1edd</td>\n",
       "      <td>Appomattox</td>\n",
       "      <td>other</td>\n",
       "      <td>No</td>\n",
       "      <td>245</td>\n",
       "    </tr>\n",
       "    <tr>\n",
       "      <th>2</th>\n",
       "      <td>00002d44003ed46b066607c5455a999a</td>\n",
       "      <td>Winton</td>\n",
       "      <td>California</td>\n",
       "      <td>Yes</td>\n",
       "      <td>953</td>\n",
       "    </tr>\n",
       "    <tr>\n",
       "      <th>3</th>\n",
       "      <td>00002eb25d60a09c318efbd0797bffb5</td>\n",
       "      <td>Indianapolis</td>\n",
       "      <td>Indiana</td>\n",
       "      <td>No</td>\n",
       "      <td>462</td>\n",
       "    </tr>\n",
       "    <tr>\n",
       "      <th>4</th>\n",
       "      <td>0000300773fe015f870914b42528541b</td>\n",
       "      <td>Paterson</td>\n",
       "      <td>New Jersey</td>\n",
       "      <td>No</td>\n",
       "      <td>075</td>\n",
       "    </tr>\n",
       "  </tbody>\n",
       "</table>\n",
       "</div>"
      ],
      "text/plain": [
       "                           Donor ID    Donor City Donor State  \\\n",
       "0  00000ce845c00cbf0686c992fc369df4      Evanston    Illinois   \n",
       "1  00002783bc5d108510f3f9666c8b1edd    Appomattox       other   \n",
       "2  00002d44003ed46b066607c5455a999a        Winton  California   \n",
       "3  00002eb25d60a09c318efbd0797bffb5  Indianapolis     Indiana   \n",
       "4  0000300773fe015f870914b42528541b      Paterson  New Jersey   \n",
       "\n",
       "  Donor Is Teacher Donor Zip  \n",
       "0               No       602  \n",
       "1               No       245  \n",
       "2              Yes       953  \n",
       "3               No       462  \n",
       "4               No       075  "
      ]
     },
     "execution_count": 91,
     "metadata": {},
     "output_type": "execute_result"
    }
   ],
   "source": [
    "donors.head()"
   ]
  },
  {
   "cell_type": "code",
   "execution_count": 97,
   "metadata": {},
   "outputs": [
    {
     "data": {
      "text/html": [
       "<div>\n",
       "<style>\n",
       "    .dataframe thead tr:only-child th {\n",
       "        text-align: right;\n",
       "    }\n",
       "\n",
       "    .dataframe thead th {\n",
       "        text-align: left;\n",
       "    }\n",
       "\n",
       "    .dataframe tbody tr th {\n",
       "        vertical-align: top;\n",
       "    }\n",
       "</style>\n",
       "<table border=\"1\" class=\"dataframe\">\n",
       "  <thead>\n",
       "    <tr style=\"text-align: right;\">\n",
       "      <th></th>\n",
       "      <th>Donor ID</th>\n",
       "      <th>Donor State</th>\n",
       "    </tr>\n",
       "  </thead>\n",
       "  <tbody>\n",
       "    <tr>\n",
       "      <th>2</th>\n",
       "      <td>00002d44003ed46b066607c5455a999a</td>\n",
       "      <td>California</td>\n",
       "    </tr>\n",
       "    <tr>\n",
       "      <th>39</th>\n",
       "      <td>00010615b56ff057fa00b5144fe2e4cf</td>\n",
       "      <td>California</td>\n",
       "    </tr>\n",
       "    <tr>\n",
       "      <th>58</th>\n",
       "      <td>000177bef7ed7b7d1d0f5741d0b5fab8</td>\n",
       "      <td>California</td>\n",
       "    </tr>\n",
       "    <tr>\n",
       "      <th>59</th>\n",
       "      <td>00017bad30d4b5d991b81b04cb4988b8</td>\n",
       "      <td>California</td>\n",
       "    </tr>\n",
       "    <tr>\n",
       "      <th>61</th>\n",
       "      <td>000181f354f1cba54f958463835ced41</td>\n",
       "      <td>California</td>\n",
       "    </tr>\n",
       "  </tbody>\n",
       "</table>\n",
       "</div>"
      ],
      "text/plain": [
       "                            Donor ID Donor State\n",
       "2   00002d44003ed46b066607c5455a999a  California\n",
       "39  00010615b56ff057fa00b5144fe2e4cf  California\n",
       "58  000177bef7ed7b7d1d0f5741d0b5fab8  California\n",
       "59  00017bad30d4b5d991b81b04cb4988b8  California\n",
       "61  000181f354f1cba54f958463835ced41  California"
      ]
     },
     "execution_count": 97,
     "metadata": {},
     "output_type": "execute_result"
    }
   ],
   "source": [
    "# Extracting Donors from California State\n",
    "\n",
    "california_donors = donors[(donors['Donor State'] == 'California')]\n",
    "\n",
    "california_donors=california_donors.drop(['Donor City', 'Donor Is Teacher', 'Donor Zip'], axis=1)\n",
    "california_donors.head()\n"
   ]
  },
  {
   "cell_type": "code",
   "execution_count": 117,
   "metadata": {},
   "outputs": [],
   "source": [
    "# Converting Series to Array\n",
    "\n",
    "cali_donor_1 = california_donors['Donor ID']\n",
    "cali_donor_1=pd.Series(cali_donor_1)\n",
    "cali_donor_array=pd.Series(cali_donor_1).values\n"
   ]
  },
  {
   "cell_type": "code",
   "execution_count": 118,
   "metadata": {},
   "outputs": [
    {
     "data": {
      "text/html": [
       "<div>\n",
       "<style>\n",
       "    .dataframe thead tr:only-child th {\n",
       "        text-align: right;\n",
       "    }\n",
       "\n",
       "    .dataframe thead th {\n",
       "        text-align: left;\n",
       "    }\n",
       "\n",
       "    .dataframe tbody tr th {\n",
       "        vertical-align: top;\n",
       "    }\n",
       "</style>\n",
       "<table border=\"1\" class=\"dataframe\">\n",
       "  <thead>\n",
       "    <tr style=\"text-align: right;\">\n",
       "      <th></th>\n",
       "      <th>Project ID</th>\n",
       "      <th>Donation ID</th>\n",
       "      <th>Donor ID</th>\n",
       "      <th>Donation Included Optional Donation 0f 15% to donorchoose.org</th>\n",
       "      <th>Donation Amount</th>\n",
       "      <th>Donor Cart Sequence</th>\n",
       "      <th>Donation Received Date</th>\n",
       "    </tr>\n",
       "  </thead>\n",
       "  <tbody>\n",
       "    <tr>\n",
       "      <th>29</th>\n",
       "      <td>00006084c3d92d904a22e0a70f5c119a</td>\n",
       "      <td>8a836452317129fd6307e7f43b2007df</td>\n",
       "      <td>e5e938f44b6fb1d2ee335abfbd41a6d1</td>\n",
       "      <td>Yes</td>\n",
       "      <td>182.38</td>\n",
       "      <td>11</td>\n",
       "      <td>7/23/2017 3:08</td>\n",
       "    </tr>\n",
       "    <tr>\n",
       "      <th>49</th>\n",
       "      <td>0000c0bdc0f15bd239cfffa884791a10</td>\n",
       "      <td>a3e4d2d1d72978782fde6396c55c9f80</td>\n",
       "      <td>a3cfc28ca16f2927d02203c142279a16</td>\n",
       "      <td>Yes</td>\n",
       "      <td>22.68</td>\n",
       "      <td>2</td>\n",
       "      <td>7/27/2016 20:55</td>\n",
       "    </tr>\n",
       "    <tr>\n",
       "      <th>58</th>\n",
       "      <td>0000c0ea0aecb2ad60e8d234eab6ed28</td>\n",
       "      <td>c98c3e7f31daa01129a151076019ab3c</td>\n",
       "      <td>f2d7c9f3d87bcf44586efba06069f9a3</td>\n",
       "      <td>Yes</td>\n",
       "      <td>15.00</td>\n",
       "      <td>10</td>\n",
       "      <td>5/1/2018 1:19</td>\n",
       "    </tr>\n",
       "    <tr>\n",
       "      <th>60</th>\n",
       "      <td>0000c20705a45563f2ec6a53088c2a30</td>\n",
       "      <td>d72f9b4e0d8d8f7b8287ba86546e057d</td>\n",
       "      <td>0524c432dd77f69ba5918779516ea330</td>\n",
       "      <td>Yes</td>\n",
       "      <td>25.00</td>\n",
       "      <td>2</td>\n",
       "      <td>4/2/2016 18:59</td>\n",
       "    </tr>\n",
       "    <tr>\n",
       "      <th>108</th>\n",
       "      <td>0000fe73a95dae43c4bd72a142760efb</td>\n",
       "      <td>0685981a8b550f9d4fd642f763dcdda5</td>\n",
       "      <td>0e345dcdef0d2a36c9bd17bf1ac3e10a</td>\n",
       "      <td>Yes</td>\n",
       "      <td>11.23</td>\n",
       "      <td>1849</td>\n",
       "      <td>9/9/2014 2:05</td>\n",
       "    </tr>\n",
       "  </tbody>\n",
       "</table>\n",
       "</div>"
      ],
      "text/plain": [
       "                           Project ID                       Donation ID  \\\n",
       "29   00006084c3d92d904a22e0a70f5c119a  8a836452317129fd6307e7f43b2007df   \n",
       "49   0000c0bdc0f15bd239cfffa884791a10  a3e4d2d1d72978782fde6396c55c9f80   \n",
       "58   0000c0ea0aecb2ad60e8d234eab6ed28  c98c3e7f31daa01129a151076019ab3c   \n",
       "60   0000c20705a45563f2ec6a53088c2a30  d72f9b4e0d8d8f7b8287ba86546e057d   \n",
       "108  0000fe73a95dae43c4bd72a142760efb  0685981a8b550f9d4fd642f763dcdda5   \n",
       "\n",
       "                             Donor ID  \\\n",
       "29   e5e938f44b6fb1d2ee335abfbd41a6d1   \n",
       "49   a3cfc28ca16f2927d02203c142279a16   \n",
       "58   f2d7c9f3d87bcf44586efba06069f9a3   \n",
       "60   0524c432dd77f69ba5918779516ea330   \n",
       "108  0e345dcdef0d2a36c9bd17bf1ac3e10a   \n",
       "\n",
       "    Donation Included Optional Donation 0f 15% to donorchoose.org  \\\n",
       "29                                                 Yes              \n",
       "49                                                 Yes              \n",
       "58                                                 Yes              \n",
       "60                                                 Yes              \n",
       "108                                                Yes              \n",
       "\n",
       "     Donation Amount  Donor Cart Sequence Donation Received Date  \n",
       "29            182.38                   11         7/23/2017 3:08  \n",
       "49             22.68                    2        7/27/2016 20:55  \n",
       "58             15.00                   10          5/1/2018 1:19  \n",
       "60             25.00                    2         4/2/2016 18:59  \n",
       "108            11.23                 1849          9/9/2014 2:05  "
      ]
     },
     "execution_count": 118,
     "metadata": {},
     "output_type": "execute_result"
    }
   ],
   "source": [
    "# Extracting Donations from California\n",
    "\n",
    "california_donations = donations.loc[donations['Donor ID'].isin(cali_donor_array)]\n",
    "california_donations=california_donors.drop(['Donor City', 'Donor Is Teacher', 'Donor Zip'], axis=1)\n",
    "california_donations.head()"
   ]
  },
  {
   "cell_type": "code",
   "execution_count": 119,
   "metadata": {},
   "outputs": [
    {
     "data": {
      "text/html": [
       "<div>\n",
       "<style>\n",
       "    .dataframe thead tr:only-child th {\n",
       "        text-align: right;\n",
       "    }\n",
       "\n",
       "    .dataframe thead th {\n",
       "        text-align: left;\n",
       "    }\n",
       "\n",
       "    .dataframe tbody tr th {\n",
       "        vertical-align: top;\n",
       "    }\n",
       "</style>\n",
       "<table border=\"1\" class=\"dataframe\">\n",
       "  <thead>\n",
       "    <tr style=\"text-align: right;\">\n",
       "      <th></th>\n",
       "      <th>Donation Included Optional Donation 0f 15% to donorchoose.org</th>\n",
       "      <th>Donation Amount</th>\n",
       "      <th>Donation Received Date</th>\n",
       "    </tr>\n",
       "  </thead>\n",
       "  <tbody>\n",
       "    <tr>\n",
       "      <th>29</th>\n",
       "      <td>Yes</td>\n",
       "      <td>182.38</td>\n",
       "      <td>7/23/2017 3:08</td>\n",
       "    </tr>\n",
       "    <tr>\n",
       "      <th>49</th>\n",
       "      <td>Yes</td>\n",
       "      <td>22.68</td>\n",
       "      <td>7/27/2016 20:55</td>\n",
       "    </tr>\n",
       "    <tr>\n",
       "      <th>58</th>\n",
       "      <td>Yes</td>\n",
       "      <td>15.00</td>\n",
       "      <td>5/1/2018 1:19</td>\n",
       "    </tr>\n",
       "    <tr>\n",
       "      <th>60</th>\n",
       "      <td>Yes</td>\n",
       "      <td>25.00</td>\n",
       "      <td>4/2/2016 18:59</td>\n",
       "    </tr>\n",
       "    <tr>\n",
       "      <th>108</th>\n",
       "      <td>Yes</td>\n",
       "      <td>11.23</td>\n",
       "      <td>9/9/2014 2:05</td>\n",
       "    </tr>\n",
       "  </tbody>\n",
       "</table>\n",
       "</div>"
      ],
      "text/plain": [
       "    Donation Included Optional Donation 0f 15% to donorchoose.org  \\\n",
       "29                                                 Yes              \n",
       "49                                                 Yes              \n",
       "58                                                 Yes              \n",
       "60                                                 Yes              \n",
       "108                                                Yes              \n",
       "\n",
       "     Donation Amount Donation Received Date  \n",
       "29            182.38         7/23/2017 3:08  \n",
       "49             22.68        7/27/2016 20:55  \n",
       "58             15.00          5/1/2018 1:19  \n",
       "60             25.00         4/2/2016 18:59  \n",
       "108            11.23          9/9/2014 2:05  "
      ]
     },
     "execution_count": 119,
     "metadata": {},
     "output_type": "execute_result"
    }
   ],
   "source": [
    "\n",
    "california_donations=california_donations.drop(['Project ID', 'Donation ID', 'Donor ID', 'Donor Cart Sequence'], axis=1)\n",
    "california_donations.head()"
   ]
  },
  {
   "cell_type": "code",
   "execution_count": 121,
   "metadata": {},
   "outputs": [
    {
     "data": {
      "text/plain": [
       "Donation Included Optional Donation 0f 15% to donorchoose.org            object\n",
       "Donation Amount                                                         float64\n",
       "Donation Received Date                                           datetime64[ns]\n",
       "dtype: object"
      ]
     },
     "execution_count": 121,
     "metadata": {},
     "output_type": "execute_result"
    }
   ],
   "source": [
    "california_donations['Donation Received Date'] = pd.to_datetime(california_donations['Donation Received Date'])\n",
    "california_donations.dtypes"
   ]
  },
  {
   "cell_type": "code",
   "execution_count": 125,
   "metadata": {},
   "outputs": [
    {
     "name": "stdout",
     "output_type": "stream",
     "text": [
      "count    157537.000000\n",
      "mean         66.155406\n",
      "std         164.428472\n",
      "min           0.010000\n",
      "25%          15.000000\n",
      "50%          26.720000\n",
      "75%          61.000000\n",
      "max       14613.240000\n",
      "Name: Donation Amount, dtype: float64\n",
      "\n",
      "Total Donation: 10421924.170000017\n",
      "\n",
      "Date/Time Stats\n"
     ]
    },
    {
     "data": {
      "text/plain": [
       "count                  157537\n",
       "unique                 138437\n",
       "top       2017-01-27 16:02:00\n",
       "freq                       30\n",
       "first     2012-10-09 22:34:00\n",
       "last      2018-05-09 11:33:00\n",
       "Name: Donation Received Date, dtype: object"
      ]
     },
     "execution_count": 125,
     "metadata": {},
     "output_type": "execute_result"
    }
   ],
   "source": [
    "# Stats of California Donation Amount\n",
    "\n",
    "print (california_donations['Donation Amount'].describe())\n",
    "\n",
    "print ('\\nTotal Donation:',california_donations['Donation Amount'].sum())\n",
    "\n",
    "print ('\\nDate/Time Stats')\n",
    "california_donations['Donation Received Date'].describe()"
   ]
  },
  {
   "cell_type": "code",
   "execution_count": 126,
   "metadata": {},
   "outputs": [
    {
     "data": {
      "text/html": [
       "<div>\n",
       "<style>\n",
       "    .dataframe thead tr:only-child th {\n",
       "        text-align: right;\n",
       "    }\n",
       "\n",
       "    .dataframe thead th {\n",
       "        text-align: left;\n",
       "    }\n",
       "\n",
       "    .dataframe tbody tr th {\n",
       "        vertical-align: top;\n",
       "    }\n",
       "</style>\n",
       "<table border=\"1\" class=\"dataframe\">\n",
       "  <thead>\n",
       "    <tr style=\"text-align: right;\">\n",
       "      <th></th>\n",
       "      <th>Donation Included Optional Donation 0f 15% to donorchoose.org</th>\n",
       "      <th>Donation Amount</th>\n",
       "      <th>Donation Received Date</th>\n",
       "      <th>Date</th>\n",
       "      <th>Time</th>\n",
       "    </tr>\n",
       "  </thead>\n",
       "  <tbody>\n",
       "    <tr>\n",
       "      <th>29</th>\n",
       "      <td>Yes</td>\n",
       "      <td>182.38</td>\n",
       "      <td>2017-07-23 03:08:00</td>\n",
       "      <td>2017-07-23</td>\n",
       "      <td>03:08:00</td>\n",
       "    </tr>\n",
       "    <tr>\n",
       "      <th>49</th>\n",
       "      <td>Yes</td>\n",
       "      <td>22.68</td>\n",
       "      <td>2016-07-27 20:55:00</td>\n",
       "      <td>2016-07-27</td>\n",
       "      <td>20:55:00</td>\n",
       "    </tr>\n",
       "    <tr>\n",
       "      <th>58</th>\n",
       "      <td>Yes</td>\n",
       "      <td>15.00</td>\n",
       "      <td>2018-05-01 01:19:00</td>\n",
       "      <td>2018-05-01</td>\n",
       "      <td>01:19:00</td>\n",
       "    </tr>\n",
       "    <tr>\n",
       "      <th>60</th>\n",
       "      <td>Yes</td>\n",
       "      <td>25.00</td>\n",
       "      <td>2016-04-02 18:59:00</td>\n",
       "      <td>2016-04-02</td>\n",
       "      <td>18:59:00</td>\n",
       "    </tr>\n",
       "    <tr>\n",
       "      <th>108</th>\n",
       "      <td>Yes</td>\n",
       "      <td>11.23</td>\n",
       "      <td>2014-09-09 02:05:00</td>\n",
       "      <td>2014-09-09</td>\n",
       "      <td>02:05:00</td>\n",
       "    </tr>\n",
       "  </tbody>\n",
       "</table>\n",
       "</div>"
      ],
      "text/plain": [
       "    Donation Included Optional Donation 0f 15% to donorchoose.org  \\\n",
       "29                                                 Yes              \n",
       "49                                                 Yes              \n",
       "58                                                 Yes              \n",
       "60                                                 Yes              \n",
       "108                                                Yes              \n",
       "\n",
       "     Donation Amount Donation Received Date        Date      Time  \n",
       "29            182.38    2017-07-23 03:08:00  2017-07-23  03:08:00  \n",
       "49             22.68    2016-07-27 20:55:00  2016-07-27  20:55:00  \n",
       "58             15.00    2018-05-01 01:19:00  2018-05-01  01:19:00  \n",
       "60             25.00    2016-04-02 18:59:00  2016-04-02  18:59:00  \n",
       "108            11.23    2014-09-09 02:05:00  2014-09-09  02:05:00  "
      ]
     },
     "execution_count": 126,
     "metadata": {},
     "output_type": "execute_result"
    }
   ],
   "source": [
    "california_donations['Date'] = [d.date() for d in california_donations['Donation Received Date']]\n",
    "california_donations['Time'] = [d.time() for d in california_donations['Donation Received Date']]\n",
    "\n",
    "california_donations.head()\n"
   ]
  },
  {
   "cell_type": "code",
   "execution_count": 128,
   "metadata": {},
   "outputs": [
    {
     "data": {
      "text/html": [
       "<div>\n",
       "<style>\n",
       "    .dataframe thead tr:only-child th {\n",
       "        text-align: right;\n",
       "    }\n",
       "\n",
       "    .dataframe thead th {\n",
       "        text-align: left;\n",
       "    }\n",
       "\n",
       "    .dataframe tbody tr th {\n",
       "        vertical-align: top;\n",
       "    }\n",
       "</style>\n",
       "<table border=\"1\" class=\"dataframe\">\n",
       "  <thead>\n",
       "    <tr style=\"text-align: right;\">\n",
       "      <th></th>\n",
       "      <th>Donation Amount</th>\n",
       "      <th>Date</th>\n",
       "    </tr>\n",
       "  </thead>\n",
       "  <tbody>\n",
       "    <tr>\n",
       "      <th>29</th>\n",
       "      <td>182.38</td>\n",
       "      <td>2017-07-23</td>\n",
       "    </tr>\n",
       "    <tr>\n",
       "      <th>49</th>\n",
       "      <td>22.68</td>\n",
       "      <td>2016-07-27</td>\n",
       "    </tr>\n",
       "    <tr>\n",
       "      <th>58</th>\n",
       "      <td>15.00</td>\n",
       "      <td>2018-05-01</td>\n",
       "    </tr>\n",
       "    <tr>\n",
       "      <th>60</th>\n",
       "      <td>25.00</td>\n",
       "      <td>2016-04-02</td>\n",
       "    </tr>\n",
       "    <tr>\n",
       "      <th>108</th>\n",
       "      <td>11.23</td>\n",
       "      <td>2014-09-09</td>\n",
       "    </tr>\n",
       "  </tbody>\n",
       "</table>\n",
       "</div>"
      ],
      "text/plain": [
       "     Donation Amount       Date\n",
       "29            182.38 2017-07-23\n",
       "49             22.68 2016-07-27\n",
       "58             15.00 2018-05-01\n",
       "60             25.00 2016-04-02\n",
       "108            11.23 2014-09-09"
      ]
     },
     "execution_count": 128,
     "metadata": {},
     "output_type": "execute_result"
    }
   ],
   "source": [
    "california_donations['Date'] = pd.to_datetime(california_donations['Date'])\n",
    "\n",
    "california_donations_yr = california_donations[['Donation Amount', 'Date']].copy()\n",
    "california_donations_yr.head()"
   ]
  },
  {
   "cell_type": "markdown",
   "metadata": {},
   "source": [
    "### Time Series of California State"
   ]
  },
  {
   "cell_type": "code",
   "execution_count": 129,
   "metadata": {},
   "outputs": [
    {
     "data": {
      "text/plain": [
       "<matplotlib.figure.Figure at 0xd779910>"
      ]
     },
     "metadata": {},
     "output_type": "display_data"
    },
    {
     "data": {
      "image/png": "[encoded data removed]",
      "text/plain": [
       "<matplotlib.figure.Figure at 0xe3333d0>"
      ]
     },
     "metadata": {},
     "output_type": "display_data"
    }
   ],
   "source": [
    "plt.figure()\n",
    "\n",
    "california_donations_yr.plot(x='Date', y='Donation Amount')\n",
    "plt.show()"
   ]
  },
  {
   "cell_type": "code",
   "execution_count": 131,
   "metadata": {},
   "outputs": [
    {
     "name": "stdout",
     "output_type": "stream",
     "text": [
      "        Donation Amount       Date\n",
      "780449             40.0 2012-10-09\n",
      "780417             25.0 2012-10-14\n",
      "780424             25.0 2012-10-14\n",
      "107369             25.0 2012-12-18\n",
      "196469             50.0 2013-01-01\n"
     ]
    },
    {
     "data": {
      "text/html": [
       "<div>\n",
       "<style>\n",
       "    .dataframe thead tr:only-child th {\n",
       "        text-align: right;\n",
       "    }\n",
       "\n",
       "    .dataframe thead th {\n",
       "        text-align: left;\n",
       "    }\n",
       "\n",
       "    .dataframe tbody tr th {\n",
       "        vertical-align: top;\n",
       "    }\n",
       "</style>\n",
       "<table border=\"1\" class=\"dataframe\">\n",
       "  <thead>\n",
       "    <tr style=\"text-align: right;\">\n",
       "      <th></th>\n",
       "      <th>Donation Amount</th>\n",
       "      <th>Date</th>\n",
       "    </tr>\n",
       "  </thead>\n",
       "  <tbody>\n",
       "    <tr>\n",
       "      <th>216893</th>\n",
       "      <td>1.00</td>\n",
       "      <td>2018-05-09</td>\n",
       "    </tr>\n",
       "    <tr>\n",
       "      <th>216883</th>\n",
       "      <td>1.00</td>\n",
       "      <td>2018-05-09</td>\n",
       "    </tr>\n",
       "    <tr>\n",
       "      <th>793040</th>\n",
       "      <td>5.00</td>\n",
       "      <td>2018-05-09</td>\n",
       "    </tr>\n",
       "    <tr>\n",
       "      <th>138778</th>\n",
       "      <td>136.28</td>\n",
       "      <td>2018-05-09</td>\n",
       "    </tr>\n",
       "    <tr>\n",
       "      <th>938735</th>\n",
       "      <td>41.08</td>\n",
       "      <td>2018-05-09</td>\n",
       "    </tr>\n",
       "  </tbody>\n",
       "</table>\n",
       "</div>"
      ],
      "text/plain": [
       "        Donation Amount       Date\n",
       "216893             1.00 2018-05-09\n",
       "216883             1.00 2018-05-09\n",
       "793040             5.00 2018-05-09\n",
       "138778           136.28 2018-05-09\n",
       "938735            41.08 2018-05-09"
      ]
     },
     "execution_count": 131,
     "metadata": {},
     "output_type": "execute_result"
    }
   ],
   "source": [
    "# Sorting Year wise\n",
    "\n",
    "california_donations_yr_s = california_donations_yr.sort_values(by=['Date'])\n",
    "\n",
    "print (california_donations_yr_s.head())\n",
    "california_donations_yr_s.tail()"
   ]
  },
  {
   "cell_type": "code",
   "execution_count": 132,
   "metadata": {
    "collapsed": true
   },
   "outputs": [],
   "source": [
    "# Slicing DataFrame on basis of Years\n",
    "\n",
    "cali_donations_2012_df = california_donations_yr_s[(california_donations_yr_s['Date'] >= '2012-1-1') & (california_donations_yr_s['Date'] < '2013-1-1')]\n",
    "cali_donations_2013_df = california_donations_yr_s[(california_donations_yr_s['Date'] >= '2013-1-1') & (california_donations_yr_s['Date'] < '2014-1-1')]\n",
    "cali_donations_2014_df = california_donations_yr_s[(california_donations_yr_s['Date'] >= '2014-1-1') & (california_donations_yr_s['Date'] < '2015-1-1')]\n",
    "cali_donations_2015_df = california_donations_yr_s[(california_donations_yr_s['Date'] >= '2015-1-1') & (california_donations_yr_s['Date'] < '2016-1-1')]\n",
    "cali_donations_2016_df = california_donations_yr_s[(california_donations_yr_s['Date'] >= '2016-1-1') & (california_donations_yr_s['Date'] < '2017-1-1')]\n",
    "cali_donations_2017_df = california_donations_yr_s[(california_donations_yr_s['Date'] >= '2017-1-1') & (california_donations_yr_s['Date'] < '2018-1-1')]\n",
    "cali_donations_2018_df = california_donations_yr_s[(california_donations_yr_s['Date'] >= '2018-1-1') & (california_donations_yr_s['Date'] < '2019-1-1')]\n"
   ]
  },
  {
   "cell_type": "markdown",
   "metadata": {},
   "source": [
    "### Time Series of 1 State for 1 Year"
   ]
  },
  {
   "cell_type": "code",
   "execution_count": 146,
   "metadata": {},
   "outputs": [
    {
     "data": {
      "image/png": "[encoded data removed]",
      "text/plain": [
       "<matplotlib.figure.Figure at 0x1c925cd0>"
      ]
     },
     "metadata": {},
     "output_type": "display_data"
    }
   ],
   "source": [
    "cali_donations_2012_df.plot(x='Date', y='Donation Amount', style='o-')\n",
    "plt.show()"
   ]
  },
  {
   "cell_type": "code",
   "execution_count": 148,
   "metadata": {},
   "outputs": [
    {
     "data": {
      "image/png": "[encoded data removed]",
      "text/plain": [
       "<matplotlib.figure.Figure at 0xe3791b0>"
      ]
     },
     "metadata": {},
     "output_type": "display_data"
    }
   ],
   "source": [
    "cali_donations_2013_df.plot(x='Date', y='Donation Amount')\n",
    "plt.show()"
   ]
  },
  {
   "cell_type": "code",
   "execution_count": 149,
   "metadata": {},
   "outputs": [
    {
     "data": {
      "image/png": "[encoded data removed]",
      "text/plain": [
       "<matplotlib.figure.Figure at 0x664c750>"
      ]
     },
     "metadata": {},
     "output_type": "display_data"
    }
   ],
   "source": [
    "# TIME SERIES OF CALIFORNIA IN ALL YEARS\n",
    "\n",
    "plt.plot('Date', 'Donation Amount',data=cali_donations_2012_df)\n",
    "plt.plot('Date', 'Donation Amount',data=cali_donations_2013_df)\n",
    "plt.plot('Date', 'Donation Amount',data=cali_donations_2014_df)\n",
    "plt.plot('Date', 'Donation Amount',data=cali_donations_2015_df)\n",
    "plt.plot('Date', 'Donation Amount',data=cali_donations_2016_df)\n",
    "plt.plot('Date', 'Donation Amount',data=cali_donations_2017_df)\n",
    "plt.plot('Date', 'Donation Amount',data=cali_donations_2018_df)\n",
    "\n",
    "\n",
    "plt.show()"
   ]
  },
  {
   "cell_type": "code",
   "execution_count": 152,
   "metadata": {},
   "outputs": [
    {
     "data": {
      "image/png": "[encoded data removed]",
      "text/plain": [
       "<matplotlib.figure.Figure at 0xd772a50>"
      ]
     },
     "metadata": {},
     "output_type": "display_data"
    }
   ],
   "source": [
    "# More Visuals\n",
    "\n",
    "plt.rcParams['figure.figsize'] = [20, 20]\n",
    "plt.plot('Date', 'Donation Amount',data=cali_donations_2012_df)\n",
    "plt.plot('Date', 'Donation Amount',data=cali_donations_2013_df)\n",
    "plt.plot('Date', 'Donation Amount',data=cali_donations_2014_df)\n",
    "plt.plot('Date', 'Donation Amount',data=cali_donations_2015_df)\n",
    "plt.plot('Date', 'Donation Amount',data=cali_donations_2016_df)\n",
    "plt.plot('Date', 'Donation Amount',data=cali_donations_2017_df)\n",
    "plt.plot('Date', 'Donation Amount',data=cali_donations_2018_df)\n",
    "\n",
    "\n",
    "plt.show()"
   ]
  },
  {
   "cell_type": "code",
   "execution_count": null,
   "metadata": {
    "collapsed": true
   },
   "outputs": [],
   "source": []
  }
 ],
 "metadata": {
  "kernelspec": {
   "display_name": "Python 3",
   "language": "python",
   "name": "python3"
  },
  "language_info": {
   "codemirror_mode": {
    "name": "ipython",
    "version": 3
   },
   "file_extension": ".py",
   "mimetype": "text/x-python",
   "name": "python",
   "nbconvert_exporter": "python",
   "pygments_lexer": "ipython3",
   "version": "3.6.1"
  }
 },
 "nbformat": 4,
 "nbformat_minor": 2
}
